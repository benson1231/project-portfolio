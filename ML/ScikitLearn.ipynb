{
 "cells": [
  {
   "cell_type": "markdown",
   "id": "892e461a-4702-4f06-a593-8b1b8210be2e",
   "metadata": {},
   "source": [
    "# Linear Regression 線性迴歸"
   ]
  },
  {
   "cell_type": "code",
   "execution_count": 1,
   "id": "c4460b85-318b-4bac-925e-5a32f2ced527",
   "metadata": {
    "tags": []
   },
   "outputs": [
    {
     "name": "stdout",
     "output_type": "stream",
     "text": [
      "Coefficients: [[1.5]]\n",
      "Intercept: [1.5]\n",
      "Predictions: [[27.]\n",
      " [ 6.]]\n",
      "R² Score: 0.9958677685950413\n"
     ]
    }
   ],
   "source": [
    "from sklearn.linear_model import LinearRegression\n",
    "from sklearn.model_selection import train_test_split\n",
    "import numpy as np\n",
    "\n",
    "# 範例數據：模擬線性關係\n",
    "x = np.array([[1, 3, 5, 7, 9, 11, 13, 15, 17, 19]]).reshape(-1,1)\n",
    "y = np.array([3, 6, 9, 12, 15, 18, 21, 24, 28, 30]).reshape(-1,1)\n",
    "\n",
    "# 切分數據集\n",
    "x_train, x_test, y_train, y_test = train_test_split(x, y, train_size=0.8, random_state=42)\n",
    "\n",
    "# 建立模型\n",
    "model = LinearRegression()\n",
    "\n",
    "# 訓練模型\n",
    "model.fit(x_train, y_train)\n",
    "\n",
    "# 查看模型參數\n",
    "print(\"Coefficients:\", model.coef_)  # 模型係數\n",
    "print(\"Intercept:\", model.intercept_)  # 截距\n",
    "\n",
    "# 預測\n",
    "predictions = model.predict(x_test)\n",
    "print(\"Predictions:\", predictions)\n",
    "\n",
    "# 計算R²分數\n",
    "score = model.score(x_test, y_test)\n",
    "print(\"R² Score:\", score)"
   ]
  },
  {
   "cell_type": "markdown",
   "id": "d965587a-c9a8-4f0e-a90c-ec64f6a50ebf",
   "metadata": {},
   "source": [
    "# Naive Bayes 樸素貝葉斯"
   ]
  },
  {
   "cell_type": "code",
   "execution_count": 2,
   "id": "cdb7c870-2c9a-4b89-ac8e-c3d2fe75bf76",
   "metadata": {
    "tags": []
   },
   "outputs": [
    {
     "name": "stdout",
     "output_type": "stream",
     "text": [
      "Predicted Classes: [1 0]\n",
      "Class Probabilities: [[0.01923552 0.98076448]\n",
      " [0.55746263 0.44253737]]\n"
     ]
    }
   ],
   "source": [
    "from sklearn.naive_bayes import MultinomialNB\n",
    "from sklearn.model_selection import train_test_split\n",
    "import numpy as np\n",
    "\n",
    "# 範例數據：模擬分類數據\n",
    "x = np.random.randint(0, 10, (10, 3))\n",
    "y = np.random.choice([0, 1], size=(10,))\n",
    "\n",
    "# 切分數據集\n",
    "x_train, x_test, y_train, y_test = train_test_split(x, y, test_size=0.2, random_state=42)\n",
    "\n",
    "# 建立模型\n",
    "model = MultinomialNB()\n",
    "\n",
    "# 訓練模型\n",
    "model.fit(x_train, y_train)\n",
    "\n",
    "# 預測\n",
    "predictions = model.predict(x_test)\n",
    "probabilities = model.predict_proba(x_test)\n",
    "\n",
    "print(\"Predicted Classes:\", predictions)\n",
    "print(\"Class Probabilities:\", probabilities)"
   ]
  },
  {
   "cell_type": "markdown",
   "id": "2d7562dc-29b8-495a-89c5-657d7f572fbe",
   "metadata": {},
   "source": [
    "# K-Nearest Neighbors 最近鄰分類器"
   ]
  },
  {
   "cell_type": "code",
   "execution_count": 3,
   "id": "d259fa7a-d7e0-40d5-a2f3-e9b76d220c05",
   "metadata": {
    "tags": []
   },
   "outputs": [
    {
     "name": "stdout",
     "output_type": "stream",
     "text": [
      "Predicted Classes: [0 1]\n",
      "Class Probabilities: [[1.         0.        ]\n",
      " [0.33333333 0.66666667]]\n"
     ]
    }
   ],
   "source": [
    "from sklearn.neighbors import KNeighborsClassifier\n",
    "from sklearn.model_selection import train_test_split\n",
    "import numpy as np\n",
    "\n",
    "# 範例數據：模擬分類數據\n",
    "x = np.random.random((10, 2))\n",
    "y = np.random.choice([0, 1], size=(10,))\n",
    "\n",
    "# 切分數據集\n",
    "x_train, x_test, y_train, y_test = train_test_split(x, y, test_size=0.2, random_state=42)\n",
    "\n",
    "# 建立模型\n",
    "model = KNeighborsClassifier(n_neighbors=3)  # 使用3個最近鄰\n",
    "\n",
    "# 訓練模型\n",
    "model.fit(x_train, y_train)\n",
    "\n",
    "# 預測\n",
    "predictions = model.predict(x_test)\n",
    "probabilities = model.predict_proba(x_test)\n",
    "\n",
    "print(\"Predicted Classes:\", predictions)\n",
    "print(\"Class Probabilities:\", probabilities)"
   ]
  },
  {
   "cell_type": "markdown",
   "id": "102ef22c-ec81-4f22-8a85-e1f516bd71ef",
   "metadata": {},
   "source": [
    "# K-Means 聚類分析"
   ]
  },
  {
   "cell_type": "code",
   "execution_count": 4,
   "id": "6c2f329e-1883-43fd-8f05-793e6b68a68b",
   "metadata": {
    "tags": []
   },
   "outputs": [
    {
     "name": "stdout",
     "output_type": "stream",
     "text": [
      "Cluster Assignments: [1 2 1 1 1 0 1 2 0 2 1 0 0 0 1 0 1 2 0 1]\n"
     ]
    }
   ],
   "source": [
    "from sklearn.cluster import KMeans\n",
    "import numpy as np\n",
    "\n",
    "# 範例數據：模擬2D數據點\n",
    "x = np.random.random((20, 2))\n",
    "\n",
    "# 建立K-Means模型\n",
    "model = KMeans(n_clusters=3, init='random', random_state=42, n_init=2)\n",
    "\n",
    "# 訓練模型\n",
    "model.fit(x)\n",
    "\n",
    "# 預測叢集\n",
    "predictions = model.predict(x)\n",
    "\n",
    "print(\"Cluster Assignments:\", predictions)"
   ]
  },
  {
   "cell_type": "markdown",
   "id": "fbb93458-e470-4dee-a996-44339249dc00",
   "metadata": {},
   "source": [
    "# 模型驗證：計算準確率、召回率、精確率、F1分數"
   ]
  },
  {
   "cell_type": "code",
   "execution_count": 5,
   "id": "0d1965c8-817b-44d9-9b46-fdd6ecea0f34",
   "metadata": {},
   "outputs": [
    {
     "name": "stdout",
     "output_type": "stream",
     "text": [
      "Accuracy: 0.8\n",
      "Recall: 0.6666666666666666\n",
      "Precision: 1.0\n",
      "F1 Score: 0.8\n",
      "Confusion Matrix:\n",
      " [[2 0]\n",
      " [1 2]]\n"
     ]
    }
   ],
   "source": [
    "from sklearn.metrics import accuracy_score, recall_score, precision_score, f1_score, confusion_matrix\n",
    "\n",
    "# 範例數據：模擬真實標籤和模型預測\n",
    "true_labels = [0, 1, 1, 0, 1]\n",
    "guesses = [0, 1, 0, 0, 1]\n",
    "\n",
    "# 計算指標\n",
    "print(\"Accuracy:\", accuracy_score(true_labels, guesses))  # 準確率\n",
    "print(\"Recall:\", recall_score(true_labels, guesses))  # 召回率\n",
    "print(\"Precision:\", precision_score(true_labels, guesses))  # 精確率\n",
    "print(\"F1 Score:\", f1_score(true_labels, guesses))  # F1分數\n",
    "\n",
    "# 混淆矩陣\n",
    "print(\"Confusion Matrix:\\n\", confusion_matrix(true_labels, guesses))\n"
   ]
  },
  {
   "cell_type": "markdown",
   "id": "67f1d02a-4b9f-41d8-b938-5a0f85ad3e34",
   "metadata": {},
   "source": [
    "# 切分訓練集和測試集"
   ]
  },
  {
   "cell_type": "code",
   "execution_count": 6,
   "id": "4a358440-e690-4b8e-8bd3-095bbc132d5c",
   "metadata": {
    "tags": []
   },
   "outputs": [
    {
     "name": "stdout",
     "output_type": "stream",
     "text": [
      "Training Set Size: 80\n",
      "Test Set Size: 20\n"
     ]
    }
   ],
   "source": [
    "from sklearn.model_selection import train_test_split\n",
    "import numpy as np\n",
    "\n",
    "# 範例數據\n",
    "x = np.random.random((100, 2))\n",
    "y = np.random.choice([0, 1], size=(100,))\n",
    "\n",
    "# 切分數據集\n",
    "x_train, x_test, y_train, y_test = train_test_split(x, y, train_size=0.8, test_size=0.2, random_state=42)\n",
    "\n",
    "print(\"Training Set Size:\", len(x_train))\n",
    "print(\"Test Set Size:\", len(x_test))\n"
   ]
  }
 ],
 "metadata": {
  "kernelspec": {
   "display_name": "Python 3 (ipykernel)",
   "language": "python",
   "name": "python3"
  },
  "language_info": {
   "codemirror_mode": {
    "name": "ipython",
    "version": 3
   },
   "file_extension": ".py",
   "mimetype": "text/x-python",
   "name": "python",
   "nbconvert_exporter": "python",
   "pygments_lexer": "ipython3",
   "version": "3.11.5"
  }
 },
 "nbformat": 4,
 "nbformat_minor": 5
}
