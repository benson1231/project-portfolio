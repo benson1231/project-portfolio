{
 "cells": [
  {
   "cell_type": "markdown",
   "id": "bf098efc-c95b-46a8-af92-0f1bb016ab8c",
   "metadata": {},
   "source": [
    "# Linear discriminant analysis(LDA)線性判別分析\n",
    "LDA 和 PCA 之間的一個主要區別是它們有不同的應用。 PCA 使用線性代數技術來尋找使資料集變異數最大化的子空間。這意味著 PCA 基本上找到了最適合線性迴歸問題的子空間。另一方面，LDA 使用線性代數技術來尋找最適合分類問題的子空間。"
   ]
  },
  {
   "cell_type": "code",
   "execution_count": 1,
   "id": "d7650719-3b93-4a47-9b2e-dc374b408ba7",
   "metadata": {
    "tags": []
   },
   "outputs": [
    {
     "name": "stdout",
     "output_type": "stream",
     "text": [
      "Accuracy: 1.0\n"
     ]
    }
   ],
   "source": [
    "from sklearn.discriminant_analysis import LinearDiscriminantAnalysis\n",
    "from sklearn.model_selection import train_test_split\n",
    "from sklearn.datasets import load_iris\n",
    "\n",
    "# 載入 Iris 資料集\n",
    "iris = load_iris()  \n",
    "X = iris.data  # 特徵矩陣，包含花卉的不同測量數據（例如：花萼長度、花萼寬度等）\n",
    "y = iris.target  # 目標變數，對應花卉的種類，包含 3 類 (setosa, versicolor, virginica)\n",
    "\n",
    "# 將資料集分割為訓練集和測試集，30% 作為測試集，70% 作為訓練集\n",
    "X_train, X_test, y_train, y_test = train_test_split(X, y, test_size=0.3, random_state=42)\n",
    "\n",
    "# 初始化並應用線性判別分析 (LDA) 模型\n",
    "lda = LinearDiscriminantAnalysis()\n",
    "\n",
    "# 使用訓練集來擬合 LDA 模型\n",
    "lda.fit(X_train, y_train)\n",
    "\n",
    "# 使用訓練好的 LDA 模型來對測試集進行預測\n",
    "y_pred = lda.predict(X_test)\n",
    "\n",
    "# 評估 LDA 模型在測試集上的準確度\n",
    "accuracy = lda.score(X_test, y_test)  # 計算模型的準確度，將預測結果與真實標籤進行比較\n",
    "print(f\"Accuracy: {accuracy}\")  # 輸出準確度"
   ]
  },
  {
   "cell_type": "code",
   "execution_count": 2,
   "id": "79458d74-66b4-45e6-ab0b-3b2dad7a6f38",
   "metadata": {
    "tags": []
   },
   "outputs": [
    {
     "name": "stdout",
     "output_type": "stream",
     "text": [
      "更新日期: 2024年12月01日\n"
     ]
    }
   ],
   "source": [
    "import datetime\n",
    "\n",
    "current_date = datetime.datetime.now().strftime(\"%Y年%m月%d日\")\n",
    "print(f\"更新日期: {current_date}\")"
   ]
  }
 ],
 "metadata": {
  "kernelspec": {
   "display_name": "Python 3 (ipykernel)",
   "language": "python",
   "name": "python3"
  },
  "language_info": {
   "codemirror_mode": {
    "name": "ipython",
    "version": 3
   },
   "file_extension": ".py",
   "mimetype": "text/x-python",
   "name": "python",
   "nbconvert_exporter": "python",
   "pygments_lexer": "ipython3",
   "version": "3.11.5"
  }
 },
 "nbformat": 4,
 "nbformat_minor": 5
}
