{
 "cells": [
  {
   "cell_type": "markdown",
   "id": "b7849f09-48f8-42c6-b1ae-b928f71e081d",
   "metadata": {},
   "source": [
    "# Z-Score normalization"
   ]
  },
  {
   "cell_type": "code",
   "execution_count": 1,
   "id": "e8298402-c1e3-401d-aa6d-756c9fc14930",
   "metadata": {
    "tags": []
   },
   "outputs": [
    {
     "name": "stdout",
     "output_type": "stream",
     "text": [
      "標準化後的數據：\n",
      "[[-1.22474487 -1.22474487 -1.22474487]\n",
      " [ 0.          0.          0.        ]\n",
      " [ 1.22474487  1.22474487  1.22474487]]\n"
     ]
    }
   ],
   "source": [
    "from sklearn.preprocessing import StandardScaler\n",
    "import numpy as np\n",
    "\n",
    "# 假設有一個數據集\n",
    "X = np.array([[1, 2, 3],\n",
    "              [4, 5, 6],\n",
    "              [7, 8, 9]])\n",
    "\n",
    "# 創建 StandardScaler 物件\n",
    "scaler = StandardScaler()\n",
    "\n",
    "# 使用 fit_transform 進行標準化\n",
    "X_scaled = scaler.fit_transform(X)\n",
    "\n",
    "print(\"標準化後的數據：\")\n",
    "print(X_scaled)"
   ]
  },
  {
   "cell_type": "markdown",
   "id": "8a493d1a-53fd-4036-a529-8011d783dc72",
   "metadata": {},
   "source": [
    "# Min-Max Normalization"
   ]
  },
  {
   "cell_type": "code",
   "execution_count": 2,
   "id": "d8c8c131-27bf-41ed-b840-bf0d727d7de6",
   "metadata": {
    "tags": []
   },
   "outputs": [
    {
     "name": "stdout",
     "output_type": "stream",
     "text": [
      "縮放後的數據：\n",
      "[[0.  0.  0. ]\n",
      " [0.5 0.5 0.5]\n",
      " [1.  1.  1. ]]\n"
     ]
    }
   ],
   "source": [
    "from sklearn.preprocessing import MinMaxScaler\n",
    "import numpy as np\n",
    "\n",
    "# 假設有一個數據集\n",
    "X = np.array([[1, 2, 3],\n",
    "              [4, 5, 6],\n",
    "              [7, 8, 9]])\n",
    "\n",
    "# 創建 MinMaxScaler 物件\n",
    "scaler = MinMaxScaler()\n",
    "\n",
    "# 使用 fit_transform 進行縮放\n",
    "X_scaled = scaler.fit_transform(X)\n",
    "\n",
    "print(\"縮放後的數據：\")\n",
    "print(X_scaled)"
   ]
  },
  {
   "cell_type": "markdown",
   "id": "8c93e334-6f5c-4a4a-8bb4-9e95f8830d07",
   "metadata": {},
   "source": [
    "# Natural Log Transformation"
   ]
  },
  {
   "cell_type": "code",
   "execution_count": 3,
   "id": "08420ba6-c85e-47b8-9601-f5e97d229670",
   "metadata": {
    "tags": []
   },
   "outputs": [
    {
     "name": "stdout",
     "output_type": "stream",
     "text": [
      "自然對數轉換後的數據：\n",
      "[0.         2.30258509 4.60517019 6.90775528 9.21034037]\n"
     ]
    }
   ],
   "source": [
    "import numpy as np\n",
    "\n",
    "# 假設有一個數據集\n",
    "X = np.array([1, 10, 100, 1000, 10000])\n",
    "\n",
    "# 使用自然對數轉換\n",
    "X_log = np.log(X)\n",
    "\n",
    "print(\"自然對數轉換後的數據：\")\n",
    "print(X_log)"
   ]
  }
 ],
 "metadata": {
  "kernelspec": {
   "display_name": "Python 3 (ipykernel)",
   "language": "python",
   "name": "python3"
  },
  "language_info": {
   "codemirror_mode": {
    "name": "ipython",
    "version": 3
   },
   "file_extension": ".py",
   "mimetype": "text/x-python",
   "name": "python",
   "nbconvert_exporter": "python",
   "pygments_lexer": "ipython3",
   "version": "3.11.5"
  }
 },
 "nbformat": 4,
 "nbformat_minor": 5
}
