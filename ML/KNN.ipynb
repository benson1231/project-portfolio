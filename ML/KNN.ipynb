{
 "cells": [
  {
   "cell_type": "markdown",
   "id": "691a35cd-9a1c-4a39-8fb7-305f2237d492",
   "metadata": {},
   "source": [
    "# K-Nearest Neighbors(KNN)algorithm"
   ]
  },
  {
   "cell_type": "code",
   "execution_count": 1,
   "id": "18e9be6f-d7e4-4e5a-8f8d-5e9e46f0356e",
   "metadata": {
    "tags": []
   },
   "outputs": [],
   "source": [
    "# 訓練數據集\n",
    "training_set = {\n",
    "    \"Movie1\": [1.0, 2.0, 3.0],\n",
    "    \"Movie2\": [2.0, 3.0, 4.0],\n",
    "    \"Movie3\": [3.0, 4.0, 5.0],\n",
    "    \"Movie4\": [5.0, 5.0, 5.0]\n",
    "}\n",
    "\n",
    "# 訓練標籤，1代表\"好電影\"，0代表\"壞電影\"\n",
    "training_labels = {\n",
    "    \"Movie1\": 1,\n",
    "    \"Movie2\": 0,\n",
    "    \"Movie3\": 1,\n",
    "    \"Movie4\": 0\n",
    "}\n",
    "\n",
    "# 驗證數據集\n",
    "validation_set = {\n",
    "    \"Movie5\": [1.5, 2.5, 3.5],\n",
    "    \"Movie6\": [4.5, 4.5, 4.5]\n",
    "}\n",
    "\n",
    "# 驗證標籤\n",
    "validation_labels = {\n",
    "    \"Movie5\": 1,\n",
    "    \"Movie6\": 0\n",
    "}"
   ]
  },
  {
   "cell_type": "code",
   "execution_count": 2,
   "id": "54525f7b-d23f-489c-ac46-dbf2dd3d8c9a",
   "metadata": {
    "tags": []
   },
   "outputs": [],
   "source": [
    "# 計算兩部電影之間的歐氏距離（Euclidean Distance）\n",
    "def distance(movie1, movie2):\n",
    "    squared_difference = 0\n",
    "    # 計算每個特徵的差的平方，並將它們加總\n",
    "    for i in range(len(movie1)):\n",
    "        squared_difference += (movie1[i] - movie2[i]) ** 2\n",
    "    # 計算平方根得到最終的歐氏距離\n",
    "    final_distance = squared_difference ** 0.5\n",
    "    return final_distance\n",
    "\n",
    "# 基於K最近鄰算法來分類未知電影\n",
    "def classify(unknown, dataset, labels, k):\n",
    "    distances = []\n",
    "    # 遍歷所有訓練數據集中的電影\n",
    "    for title in dataset:\n",
    "        movie = dataset[title]\n",
    "        # 計算未知電影與訓練電影之間的距離\n",
    "        distance_to_point = distance(movie, unknown)\n",
    "        # 儲存距離與相應的電影名稱\n",
    "        distances.append([distance_to_point, title])\n",
    "    \n",
    "    # 根據距離排序，從近到遠\n",
    "    distances.sort()\n",
    "    # 取前k個最近的鄰居\n",
    "    neighbors = distances[:k]\n",
    "    \n",
    "    # 計算前k個鄰居中\"好電影\"與\"壞電影\"的數量\n",
    "    num_good = 0\n",
    "    num_bad = 0\n",
    "    for neighbor in neighbors:\n",
    "        title = neighbor[1]\n",
    "        if labels[title] == 0:\n",
    "            num_bad += 1\n",
    "        elif labels[title] == 1:\n",
    "            num_good += 1\n",
    "    \n",
    "    # 如果\"好電影\"的數量大於\"壞電影\"，則分類為\"好電影\"，否則分類為\"壞電影\"\n",
    "    if num_good > num_bad:\n",
    "        return 1  # \"好電影\"\n",
    "    else:\n",
    "        return 0  # \"壞電影\"\n",
    "\n",
    "# 計算驗證集的準確率\n",
    "def find_validation_accuracy(training_set, training_labels, validation_set, validation_labels, k):\n",
    "    num_correct = 0.0  # 計算正確分類的數量\n",
    "    \n",
    "    # 遍歷所有驗證集的電影\n",
    "    for title in validation_set:\n",
    "        # 使用K最近鄰算法預測每部電影的類別\n",
    "        guess = classify(validation_set[title], training_set, training_labels, k)\n",
    "        # 如果預測正確，計數器加一\n",
    "        if guess == validation_labels[title]:\n",
    "            num_correct += 1\n",
    "    \n",
    "    # 返回驗證準確率（正確分類的數量 / 驗證集的總數）\n",
    "    return num_correct / len(validation_set)"
   ]
  },
  {
   "cell_type": "code",
   "execution_count": 3,
   "id": "4bb636f7-d055-4291-9d38-14300c57a14b",
   "metadata": {},
   "outputs": [
    {
     "name": "stdout",
     "output_type": "stream",
     "text": [
      "1.0\n"
     ]
    }
   ],
   "source": [
    "# 使用k=3進行分類，並輸出準確率\n",
    "print(find_validation_accuracy(training_set, training_labels, validation_set, validation_labels, 3))"
   ]
  },
  {
   "cell_type": "markdown",
   "id": "a73a8ffc-1194-4a25-b0ea-50c379e04e47",
   "metadata": {},
   "source": [
    "# KNN using sklearn"
   ]
  },
  {
   "cell_type": "code",
   "execution_count": null,
   "id": "b11c9b82-ace7-48b0-8d39-e61eeb5ec510",
   "metadata": {
    "tags": []
   },
   "outputs": [
    {
     "name": "stdout",
     "output_type": "stream",
     "text": [
      "Accuracy: 100.00%\n",
      "Predictions: [1 0 2 1 1 0 1 2 1 1 2 0 0 0 0 1 2 1 1 2 0 2 0 2 2 2 2 2 0 0]\n"
     ]
    }
   ],
   "source": [
    "# 載入必要的庫\n",
    "from sklearn.datasets import load_iris\n",
    "from sklearn.model_selection import train_test_split\n",
    "from sklearn.neighbors import KNeighborsClassifier\n",
    "from sklearn.metrics import accuracy_score\n",
    "\n",
    "# 載入 Iris 資料集\n",
    "iris = load_iris()\n",
    "X = iris.data  # 特徵\n",
    "y = iris.target  # 標籤\n",
    "\n",
    "# 將資料集切分為訓練集和測試集（80% 訓練，20% 測試）\n",
    "X_train, X_test, y_train, y_test = train_test_split(X, y, test_size=0.2, random_state=42)\n",
    "\n",
    "# 初始化 KNN 分類器，選擇 k=3\n",
    "classifier = KNeighborsClassifier(n_neighbors=3)\n",
    "\n",
    "# 訓練模型\n",
    "classifier.fit(X_train, y_train)\n",
    "\n",
    "# 使用測試集進行預測\n",
    "y_pred = classifier.predict(X_test)\n",
    "\n",
    "# 計算並顯示準確度\n",
    "accuracy = accuracy_score(y_test, y_pred)\n",
    "print(f\"Accuracy: {accuracy * 100:.2f}%\")\n",
    "\n",
    "# 輸出測試集的預測結果\n",
    "print(\"Predictions:\", y_pred)\n"
   ]
  },
  {
   "cell_type": "markdown",
   "id": "77a98264-fb07-48bd-a7da-c68e5608b032",
   "metadata": {},
   "source": [
    "# K-Nearest Neighbor Regressor"
   ]
  },
  {
   "cell_type": "code",
   "execution_count": 5,
   "id": "b5257862-eac5-4aee-af0c-c9fca1b11ee4",
   "metadata": {
    "tags": []
   },
   "outputs": [],
   "source": [
    "# 定義訓練資料點及其對應的標籤\n",
    "training_points = [\n",
    "  [0.5, 0.2, 0.1],  # 第一個訓練樣本，包含3個特徵\n",
    "  [0.9, 0.7, 0.3],  # 第二個訓練樣本，包含3個特徵\n",
    "  [0.4, 0.5, 0.7]   # 第三個訓練樣本，包含3個特徵\n",
    "]\n",
    "\n",
    "# 訓練標籤：每個訓練樣本對應一個實數標籤\n",
    "training_labels = [5.0, 6.8, 9.0]  # 這裡的標籤是連續的數值，適用於回歸任務"
   ]
  },
  {
   "cell_type": "code",
   "execution_count": 6,
   "id": "13b4a580-bf71-4e29-8589-805c41108479",
   "metadata": {
    "tags": []
   },
   "outputs": [
    {
     "data": {
      "text/html": [
       "<style>#sk-container-id-1 {color: black;}#sk-container-id-1 pre{padding: 0;}#sk-container-id-1 div.sk-toggleable {background-color: white;}#sk-container-id-1 label.sk-toggleable__label {cursor: pointer;display: block;width: 100%;margin-bottom: 0;padding: 0.3em;box-sizing: border-box;text-align: center;}#sk-container-id-1 label.sk-toggleable__label-arrow:before {content: \"▸\";float: left;margin-right: 0.25em;color: #696969;}#sk-container-id-1 label.sk-toggleable__label-arrow:hover:before {color: black;}#sk-container-id-1 div.sk-estimator:hover label.sk-toggleable__label-arrow:before {color: black;}#sk-container-id-1 div.sk-toggleable__content {max-height: 0;max-width: 0;overflow: hidden;text-align: left;background-color: #f0f8ff;}#sk-container-id-1 div.sk-toggleable__content pre {margin: 0.2em;color: black;border-radius: 0.25em;background-color: #f0f8ff;}#sk-container-id-1 input.sk-toggleable__control:checked~div.sk-toggleable__content {max-height: 200px;max-width: 100%;overflow: auto;}#sk-container-id-1 input.sk-toggleable__control:checked~label.sk-toggleable__label-arrow:before {content: \"▾\";}#sk-container-id-1 div.sk-estimator input.sk-toggleable__control:checked~label.sk-toggleable__label {background-color: #d4ebff;}#sk-container-id-1 div.sk-label input.sk-toggleable__control:checked~label.sk-toggleable__label {background-color: #d4ebff;}#sk-container-id-1 input.sk-hidden--visually {border: 0;clip: rect(1px 1px 1px 1px);clip: rect(1px, 1px, 1px, 1px);height: 1px;margin: -1px;overflow: hidden;padding: 0;position: absolute;width: 1px;}#sk-container-id-1 div.sk-estimator {font-family: monospace;background-color: #f0f8ff;border: 1px dotted black;border-radius: 0.25em;box-sizing: border-box;margin-bottom: 0.5em;}#sk-container-id-1 div.sk-estimator:hover {background-color: #d4ebff;}#sk-container-id-1 div.sk-parallel-item::after {content: \"\";width: 100%;border-bottom: 1px solid gray;flex-grow: 1;}#sk-container-id-1 div.sk-label:hover label.sk-toggleable__label {background-color: #d4ebff;}#sk-container-id-1 div.sk-serial::before {content: \"\";position: absolute;border-left: 1px solid gray;box-sizing: border-box;top: 0;bottom: 0;left: 50%;z-index: 0;}#sk-container-id-1 div.sk-serial {display: flex;flex-direction: column;align-items: center;background-color: white;padding-right: 0.2em;padding-left: 0.2em;position: relative;}#sk-container-id-1 div.sk-item {position: relative;z-index: 1;}#sk-container-id-1 div.sk-parallel {display: flex;align-items: stretch;justify-content: center;background-color: white;position: relative;}#sk-container-id-1 div.sk-item::before, #sk-container-id-1 div.sk-parallel-item::before {content: \"\";position: absolute;border-left: 1px solid gray;box-sizing: border-box;top: 0;bottom: 0;left: 50%;z-index: -1;}#sk-container-id-1 div.sk-parallel-item {display: flex;flex-direction: column;z-index: 1;position: relative;background-color: white;}#sk-container-id-1 div.sk-parallel-item:first-child::after {align-self: flex-end;width: 50%;}#sk-container-id-1 div.sk-parallel-item:last-child::after {align-self: flex-start;width: 50%;}#sk-container-id-1 div.sk-parallel-item:only-child::after {width: 0;}#sk-container-id-1 div.sk-dashed-wrapped {border: 1px dashed gray;margin: 0 0.4em 0.5em 0.4em;box-sizing: border-box;padding-bottom: 0.4em;background-color: white;}#sk-container-id-1 div.sk-label label {font-family: monospace;font-weight: bold;display: inline-block;line-height: 1.2em;}#sk-container-id-1 div.sk-label-container {text-align: center;}#sk-container-id-1 div.sk-container {/* jupyter's `normalize.less` sets `[hidden] { display: none; }` but bootstrap.min.css set `[hidden] { display: none !important; }` so we also need the `!important` here to be able to override the default hidden behavior on the sphinx rendered scikit-learn.org. See: https://github.com/scikit-learn/scikit-learn/issues/21755 */display: inline-block !important;position: relative;}#sk-container-id-1 div.sk-text-repr-fallback {display: none;}</style><div id=\"sk-container-id-1\" class=\"sk-top-container\"><div class=\"sk-text-repr-fallback\"><pre>KNeighborsRegressor(n_neighbors=2, weights=&#x27;distance&#x27;)</pre><b>In a Jupyter environment, please rerun this cell to show the HTML representation or trust the notebook. <br />On GitHub, the HTML representation is unable to render, please try loading this page with nbviewer.org.</b></div><div class=\"sk-container\" hidden><div class=\"sk-item\"><div class=\"sk-estimator sk-toggleable\"><input class=\"sk-toggleable__control sk-hidden--visually\" id=\"sk-estimator-id-1\" type=\"checkbox\" checked><label for=\"sk-estimator-id-1\" class=\"sk-toggleable__label sk-toggleable__label-arrow\">KNeighborsRegressor</label><div class=\"sk-toggleable__content\"><pre>KNeighborsRegressor(n_neighbors=2, weights=&#x27;distance&#x27;)</pre></div></div></div></div></div>"
      ],
      "text/plain": [
       "KNeighborsRegressor(n_neighbors=2, weights='distance')"
      ]
     },
     "execution_count": 6,
     "metadata": {},
     "output_type": "execute_result"
    }
   ],
   "source": [
    "# 引入 KNeighborsRegressor 模型\n",
    "from sklearn.neighbors import KNeighborsRegressor\n",
    "\n",
    "# 初始化 KNeighborsRegressor 模型，選擇 k=2 並使用距離權重\n",
    "# 'weights=\"distance\"' 表示預測結果會根據最近鄰居的距離加權，越近的鄰居影響越大\n",
    "regressor = KNeighborsRegressor(n_neighbors=2, weights=\"distance\")\n",
    "\n",
    "# 用訓練資料擬合模型\n",
    "regressor.fit(training_points, training_labels)"
   ]
  },
  {
   "cell_type": "code",
   "execution_count": 7,
   "id": "bca1f496-434c-4495-8e19-f14c6a850b36",
   "metadata": {
    "tags": []
   },
   "outputs": [
    {
     "name": "stdout",
     "output_type": "stream",
     "text": [
      "[7.41053819 8.39018998 6.0205455 ]\n"
     ]
    }
   ],
   "source": [
    "# 定義未知點（要預測的資料點）\n",
    "unknown_points = [\n",
    "  [0.2, 0.1, 0.7],  # 第一個未知點\n",
    "  [0.4, 0.7, 0.6],  # 第二個未知點\n",
    "  [0.5, 0.8, 0.1]   # 第三個未知點\n",
    "]\n",
    "\n",
    "# 使用訓練好的回歸模型來預測未知點的結果\n",
    "predictions = regressor.predict(unknown_points)\n",
    "\n",
    "# 輸出預測結果\n",
    "print(predictions)  # 顯示每個未知點的預測值"
   ]
  },
  {
   "cell_type": "code",
   "execution_count": 8,
   "id": "5a70259b-d9b4-431e-aece-05e4e2632611",
   "metadata": {},
   "outputs": [
    {
     "name": "stdout",
     "output_type": "stream",
     "text": [
      "更新日期: 2024年11月30日\n"
     ]
    }
   ],
   "source": [
    "import datetime\n",
    "\n",
    "current_date = datetime.datetime.now().strftime(\"%Y年%m月%d日\")\n",
    "print(f\"更新日期: {current_date}\")"
   ]
  }
 ],
 "metadata": {
  "kernelspec": {
   "display_name": "Python 3 (ipykernel)",
   "language": "python",
   "name": "python3"
  },
  "language_info": {
   "codemirror_mode": {
    "name": "ipython",
    "version": 3
   },
   "file_extension": ".py",
   "mimetype": "text/x-python",
   "name": "python",
   "nbconvert_exporter": "python",
   "pygments_lexer": "ipython3",
   "version": "3.11.5"
  }
 },
 "nbformat": 4,
 "nbformat_minor": 5
}
