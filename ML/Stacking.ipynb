{
 "cells": [
  {
   "cell_type": "markdown",
   "id": "34f34d21-24b0-41d4-9251-e8f7f08d6186",
   "metadata": {},
   "source": [
    "# Stacking(堆疊)\n",
    "是一種集成學習（Ensemble Learning）技術，將多個不同的基學習器（Base Learners）組合在一起，藉由它們的預測結果來訓練一個元學習器（Meta Learner），從而提高模型的表現。"
   ]
  },
  {
   "cell_type": "code",
   "execution_count": 2,
   "id": "28b3bc9d-eed0-41ba-91bb-cf7c05f7569f",
   "metadata": {
    "tags": []
   },
   "outputs": [
    {
     "name": "stdout",
     "output_type": "stream",
     "text": [
      "Stacking Classifier Accuracy: 1.00\n"
     ]
    }
   ],
   "source": [
    "import numpy as np\n",
    "import pandas as pd\n",
    "from sklearn.datasets import load_iris\n",
    "from sklearn.model_selection import train_test_split\n",
    "from sklearn.ensemble import StackingClassifier\n",
    "from sklearn.ensemble import RandomForestClassifier, GradientBoostingClassifier\n",
    "from sklearn.linear_model import LogisticRegression\n",
    "from sklearn.svm import SVC\n",
    "from sklearn.metrics import accuracy_score\n",
    "\n",
    "# 載入 iris 資料集\n",
    "data = load_iris()  # 這是 sklearn 提供的著名 Iris 花卉資料集\n",
    "X = pd.DataFrame(data.data, columns=data.feature_names)  # 特徵矩陣\n",
    "y = pd.Series(data.target)  # 目標變數 (類別)\n",
    "\n",
    "# 將資料集分為訓練集和測試集，80%訓練，20%測試\n",
    "X_train, X_test, y_train, y_test = train_test_split(X, y, test_size=0.2, random_state=42)\n",
    "\n",
    "# 定義基學習器，這些是將用於 Stacking 的子模型\n",
    "base_learners = [\n",
    "    ('rf', RandomForestClassifier(n_estimators=10, random_state=42)),  # 隨機森林\n",
    "    ('svc', SVC(probability=True, random_state=42)),  # 支援向量機，probability=True 以便於後續堆疊的預測機率\n",
    "    ('gb', GradientBoostingClassifier(random_state=42))  # 梯度提升機\n",
    "]\n",
    "\n",
    "# 定義元學習器，這是最終用來組合基學習器預測結果的模型\n",
    "meta_learner = LogisticRegression()\n",
    "\n",
    "# 建立 StackingClassifier，這是將基學習器和元學習器組合的堆疊模型\n",
    "stack_clf = StackingClassifier(estimators=base_learners, final_estimator=meta_learner, cv=5)\n",
    "\n",
    "# 訓練堆疊模型\n",
    "stack_clf.fit(X_train, y_train)\n",
    "\n",
    "# 預測測試集的類別\n",
    "y_pred = stack_clf.predict(X_test)\n",
    "\n",
    "# 評估模型準確度\n",
    "accuracy = accuracy_score(y_test, y_pred)\n",
    "print(f\"Stacking Classifier Accuracy: {accuracy:.2f}\")  # 顯示模型的準確度"
   ]
  },
  {
   "cell_type": "code",
   "execution_count": 3,
   "id": "7d3eab91-4061-4927-9f17-d1dc431717b8",
   "metadata": {
    "tags": []
   },
   "outputs": [
    {
     "name": "stdout",
     "output_type": "stream",
     "text": [
      "更新日期: 2024年12月01日\n"
     ]
    }
   ],
   "source": [
    "import datetime\n",
    "\n",
    "current_date = datetime.datetime.now().strftime(\"%Y年%m月%d日\")\n",
    "print(f\"更新日期: {current_date}\")"
   ]
  }
 ],
 "metadata": {
  "kernelspec": {
   "display_name": "Python 3 (ipykernel)",
   "language": "python",
   "name": "python3"
  },
  "language_info": {
   "codemirror_mode": {
    "name": "ipython",
    "version": 3
   },
   "file_extension": ".py",
   "mimetype": "text/x-python",
   "name": "python",
   "nbconvert_exporter": "python",
   "pygments_lexer": "ipython3",
   "version": "3.11.5"
  }
 },
 "nbformat": 4,
 "nbformat_minor": 5
}
