{
 "cells": [
  {
   "cell_type": "markdown",
   "id": "588dfb36-c58d-4483-86da-9328fff698b0",
   "metadata": {},
   "source": [
    "# Boosting \n",
    "是一種常用的機器學習集成方法，旨在通過將多個弱學習器（通常是決策樹）結合起來，以提高模型的準確度。Boosting 通常是以序列化的方式進行訓練，這意味著每個後續模型都會關注前一個模型的錯誤，並試圖將這些錯誤進行修正。Boosting 的代表算法有 AdaBoost、Gradient Boosting 和 XGBoost 等"
   ]
  },
  {
   "cell_type": "code",
   "execution_count": 5,
   "id": "eb222658-d8c9-47e6-9139-45ac84911765",
   "metadata": {
    "tags": []
   },
   "outputs": [
    {
     "name": "stdout",
     "output_type": "stream",
     "text": [
      "AdaBoost Classifier parameters:\n",
      "{'algorithm': 'SAMME.R', 'base_estimator': 'deprecated', 'estimator__ccp_alpha': 0.0, 'estimator__class_weight': None, 'estimator__criterion': 'gini', 'estimator__max_depth': 1, 'estimator__max_features': None, 'estimator__max_leaf_nodes': None, 'estimator__min_impurity_decrease': 0.0, 'estimator__min_samples_leaf': 1, 'estimator__min_samples_split': 2, 'estimator__min_weight_fraction_leaf': 0.0, 'estimator__random_state': None, 'estimator__splitter': 'best', 'estimator': DecisionTreeClassifier(max_depth=1), 'learning_rate': 1.0, 'n_estimators': 5, 'random_state': None}\n",
      "\n",
      "Gradient Boosting Classifier parameters:\n",
      "{'ccp_alpha': 0.0, 'criterion': 'friedman_mse', 'init': None, 'learning_rate': 0.1, 'loss': 'log_loss', 'max_depth': 3, 'max_features': None, 'max_leaf_nodes': None, 'min_impurity_decrease': 0.0, 'min_samples_leaf': 1, 'min_samples_split': 2, 'min_weight_fraction_leaf': 0.0, 'n_estimators': 15, 'n_iter_no_change': None, 'random_state': None, 'subsample': 1.0, 'tol': 0.0001, 'validation_fraction': 0.1, 'verbose': 0, 'warm_start': False}\n",
      "\n",
      "AdaBoost - Test set accuracy: 0.8574181117533719\n",
      "AdaBoost - Test set precision: 0.7247191011235955\n",
      "AdaBoost - Test set recall: 0.8376623376623377\n",
      "AdaBoost - Test set f1-score: 0.7771084337349398\n",
      "\n",
      "Gradient Boosting - Test set accuracy: 0.8978805394990366\n",
      "Gradient Boosting - Test set precision: 0.7885714285714286\n",
      "Gradient Boosting - Test set recall: 0.8961038961038961\n",
      "Gradient Boosting - Test set f1-score: 0.8389057750759877\n",
      "\n",
      "Confusion Matrix:\n",
      "            predicted yes  predicted no\n",
      "actual yes            129            25\n",
      "actual no              49           316\n"
     ]
    }
   ],
   "source": [
    "import pandas as pd\n",
    "import numpy as np\n",
    "from sklearn.model_selection import train_test_split\n",
    "from sklearn.tree import DecisionTreeClassifier\n",
    "from sklearn.ensemble import AdaBoostClassifier, GradientBoostingClassifier\n",
    "from sklearn.metrics import accuracy_score, precision_score, recall_score, f1_score, confusion_matrix\n",
    "\n",
    "# 載入資料集並建立 pandas DataFrame\n",
    "path_to_data = 'https://archive.ics.uci.edu/ml/machine-learning-databases/car/car.data'\n",
    "column_names = ['buying', 'maint', 'doors', 'persons', 'lug_boot', 'safety', 'accep']\n",
    "\n",
    "df = pd.read_csv(path_to_data, names=column_names)\n",
    "target_column = 'accep'\n",
    "raw_feature_columns = [col for col in column_names if col != target_column]\n",
    "\n",
    "# 將特徵欄位轉換為虛擬變數（dummy variables）\n",
    "X = pd.get_dummies(df[raw_feature_columns], drop_first=True)\n",
    "\n",
    "# 將目標欄位轉換為二元變數；如果是 'unacc'，設為 0，否則設為 1\n",
    "df[target_column] = np.where(df[target_column] == 'unacc', 0, 1)\n",
    "y = df[target_column]\n",
    "\n",
    "# 將資料集分為訓練集和測試集\n",
    "X_train, X_test, y_train, y_test = train_test_split(X, y, random_state=123, test_size=0.3)\n",
    "\n",
    "# 1. 使用 DecisionTreeClassifier 建立 AdaBoost 基本模型，並顯示其參數\n",
    "decision_stump = DecisionTreeClassifier(max_depth=1)\n",
    "ada_classifier = AdaBoostClassifier(estimator=decision_stump, n_estimators=5)\n",
    "\n",
    "print(\"AdaBoost Classifier parameters:\")\n",
    "print(ada_classifier.get_params())\n",
    "\n",
    "# 訓練 AdaBoost 模型並預測測試集\n",
    "ada_classifier.fit(X_train, y_train)\n",
    "y_pred_ada = ada_classifier.predict(X_test)\n",
    "\n",
    "# 2. 使用 GradientBoostingClassifier 建立 Gradient Boosting 模型\n",
    "grad_classifier = GradientBoostingClassifier(n_estimators=15)\n",
    "\n",
    "print(\"\\nGradient Boosting Classifier parameters:\")\n",
    "print(grad_classifier.get_params())\n",
    "\n",
    "# 訓練 Gradient Boosting 模型並預測測試集\n",
    "grad_classifier.fit(X_train, y_train)\n",
    "y_pred_grad = grad_classifier.predict(X_test)\n",
    "\n",
    "# 3. 計算 AdaBoost 模型的準確度、精確度、召回率和 F1 分數\n",
    "accuracy_ada = accuracy_score(y_test, y_pred_ada)\n",
    "precision_ada = precision_score(y_test, y_pred_ada)\n",
    "recall_ada = recall_score(y_test, y_pred_ada)\n",
    "f1_ada = f1_score(y_test, y_pred_ada)\n",
    "\n",
    "print(f'\\nAdaBoost - Test set accuracy: {accuracy_ada}')\n",
    "print(f'AdaBoost - Test set precision: {precision_ada}')\n",
    "print(f'AdaBoost - Test set recall: {recall_ada}')\n",
    "print(f'AdaBoost - Test set f1-score: {f1_ada}')\n",
    "\n",
    "# 計算 Gradient Boosting 模型的準確度、精確度、召回率和 F1 分數\n",
    "accuracy_grad = accuracy_score(y_test, y_pred_grad)\n",
    "precision_grad = precision_score(y_test, y_pred_grad)\n",
    "recall_grad = recall_score(y_test, y_pred_grad)\n",
    "f1_grad = f1_score(y_test, y_pred_grad)\n",
    "\n",
    "print(f'\\nGradient Boosting - Test set accuracy: {accuracy_grad}')\n",
    "print(f'Gradient Boosting - Test set precision: {precision_grad}')\n",
    "print(f'Gradient Boosting - Test set recall: {recall_grad}')\n",
    "print(f'Gradient Boosting - Test set f1-score: {f1_grad}')\n",
    "\n",
    "# 4. 輸出混淆矩陣\n",
    "test_conf_matrix = pd.DataFrame(\n",
    "    confusion_matrix(y_test, y_pred_ada, labels=[1, 0]), \n",
    "    index=['actual yes', 'actual no'], \n",
    "    columns=['predicted yes', 'predicted no']\n",
    ")\n",
    "\n",
    "print(f'\\nConfusion Matrix:\\n{test_conf_matrix.to_string()}')\n"
   ]
  },
  {
   "cell_type": "code",
   "execution_count": 3,
   "id": "e26638ad-00a5-406c-8aab-f5cf64d9ecb2",
   "metadata": {},
   "outputs": [
    {
     "name": "stdout",
     "output_type": "stream",
     "text": [
      "更新日期: 2024年12月01日\n"
     ]
    }
   ],
   "source": [
    "import datetime\n",
    "\n",
    "current_date = datetime.datetime.now().strftime(\"%Y年%m月%d日\")\n",
    "print(f\"更新日期: {current_date}\")"
   ]
  }
 ],
 "metadata": {
  "kernelspec": {
   "display_name": "Python 3 (ipykernel)",
   "language": "python",
   "name": "python3"
  },
  "language_info": {
   "codemirror_mode": {
    "name": "ipython",
    "version": 3
   },
   "file_extension": ".py",
   "mimetype": "text/x-python",
   "name": "python",
   "nbconvert_exporter": "python",
   "pygments_lexer": "ipython3",
   "version": "3.11.5"
  }
 },
 "nbformat": 4,
 "nbformat_minor": 5
}
