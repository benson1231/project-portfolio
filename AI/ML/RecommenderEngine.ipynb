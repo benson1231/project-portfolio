{
 "cells": [
  {
   "cell_type": "markdown",
   "id": "376ec584-a89c-46c3-9777-2aa259ac2625",
   "metadata": {},
   "source": [
    "# Recommender Engine"
   ]
  },
  {
   "cell_type": "code",
   "execution_count": 3,
   "id": "4fcb19ee-aa0d-4318-8bc9-d8b10298408e",
   "metadata": {
    "tags": []
   },
   "outputs": [
    {
     "name": "stdout",
     "output_type": "stream",
     "text": [
      "Dataset ml-100k could not be found. Do you want to download it? [Y/n] "
     ]
    },
    {
     "name": "stdin",
     "output_type": "stream",
     "text": [
      " Y\n"
     ]
    },
    {
     "name": "stdout",
     "output_type": "stream",
     "text": [
      "Trying to download dataset from https://files.grouplens.org/datasets/movielens/ml-100k.zip...\n",
      "Done! Dataset ml-100k has been saved to /Users/benson/.surprise_data/ml-100k\n",
      "Computing the msd similarity matrix...\n",
      "Done computing similarity matrix.\n",
      "KNNBasic RMSE:\n",
      "RMSE: 0.9802\n",
      "SVD RMSE:\n",
      "RMSE: 0.9392\n"
     ]
    },
    {
     "data": {
      "text/plain": [
       "0.9391948730707228"
      ]
     },
     "execution_count": 3,
     "metadata": {},
     "output_type": "execute_result"
    }
   ],
   "source": [
    "# 載入資料\n",
    "from surprise import Dataset, KNNBasic, SVD, accuracy\n",
    "from surprise.model_selection import train_test_split\n",
    "\n",
    "# 載入 MovieLens 資料集\n",
    "movie_data = Dataset.load_builtin('ml-100k')\n",
    "\n",
    "# 訓練/測試資料分割\n",
    "trainset, testset = train_test_split(movie_data, test_size=0.2, random_state=42)\n",
    "\n",
    "# 使用 KNNBasic 訓練模型\n",
    "movie_recommender = KNNBasic()\n",
    "movie_recommender.fit(trainset)\n",
    "\n",
    "# KNN 模型預測與性能評估\n",
    "knn_predictions = movie_recommender.test(testset)\n",
    "print(\"KNNBasic RMSE:\")\n",
    "accuracy.rmse(knn_predictions)\n",
    "\n",
    "# 使用 SVD 訓練改進版本模型\n",
    "svd_recommender = SVD()\n",
    "svd_recommender.fit(trainset)\n",
    "\n",
    "# SVD 模型預測與性能評估\n",
    "svd_predictions = svd_recommender.test(testset)\n",
    "print(\"SVD RMSE:\")\n",
    "accuracy.rmse(svd_predictions)\n"
   ]
  }
 ],
 "metadata": {
  "kernelspec": {
   "display_name": "Python 3 (ipykernel)",
   "language": "python",
   "name": "python3"
  },
  "language_info": {
   "codemirror_mode": {
    "name": "ipython",
    "version": 3
   },
   "file_extension": ".py",
   "mimetype": "text/x-python",
   "name": "python",
   "nbconvert_exporter": "python",
   "pygments_lexer": "ipython3",
   "version": "3.11.5"
  }
 },
 "nbformat": 4,
 "nbformat_minor": 5
}
