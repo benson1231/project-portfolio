{
 "cells": [
  {
   "cell_type": "markdown",
   "id": "591db34a-2636-4ffb-943c-df18bdf2f51f",
   "metadata": {},
   "source": [
    "# Sequential Forward/Backward Selection with mlxtend(Machine Learning Extensions)"
   ]
  },
  {
   "cell_type": "code",
   "execution_count": 1,
   "id": "878e8f6a-6bcd-42de-802b-5a5a8aa2ce7e",
   "metadata": {
    "tags": []
   },
   "outputs": [
    {
     "name": "stdout",
     "output_type": "stream",
     "text": [
      "   sepal length (cm)  sepal width (cm)  petal length (cm)  petal width (cm)  \\\n",
      "0                5.1               3.5                1.4               0.2   \n",
      "1                4.9               3.0                1.4               0.2   \n",
      "2                4.7               3.2                1.3               0.2   \n",
      "3                4.6               3.1                1.5               0.2   \n",
      "4                5.0               3.6                1.4               0.2   \n",
      "\n",
      "   target  \n",
      "0       0  \n",
      "1       0  \n",
      "2       0  \n",
      "3       0  \n",
      "4       0  \n"
     ]
    }
   ],
   "source": [
    "from sklearn.datasets import load_iris\n",
    "import pandas as pd\n",
    "\n",
    "# 載入 Iris 數據集\n",
    "data = load_iris()\n",
    "df = pd.DataFrame(data.data, columns=data.feature_names)\n",
    "df['target'] = data.target\n",
    "\n",
    "# 查看數據集的一些信息\n",
    "print(df.head())"
   ]
  },
  {
   "cell_type": "code",
   "execution_count": 2,
   "id": "658bfb89-48b6-4aef-88cf-038a2d3fe060",
   "metadata": {
    "tags": []
   },
   "outputs": [
    {
     "name": "stdout",
     "output_type": "stream",
     "text": [
      "Selected features indices: (0, 1, 2, 3)\n",
      "Selected features: Index(['sepal length (cm)', 'sepal width (cm)', 'petal length (cm)',\n",
      "       'petal width (cm)'],\n",
      "      dtype='object')\n",
      "Selected feature subset accuracy: 0.9733\n"
     ]
    }
   ],
   "source": [
    "import pandas as pd\n",
    "from sklearn.linear_model import LogisticRegression\n",
    "from mlxtend.feature_selection import SequentialFeatureSelector as SFS\n",
    "\n",
    "# 假設 'df' 是事先載入的資料集，下面將特徵與標籤分開\n",
    "X = df.iloc[:, :-1]  # 特徵集，選擇資料集中的所有列（除了最後一列）作為特徵\n",
    "y = df.iloc[:, -1]   # 標籤集，選擇資料集的最後一列作為目標變數\n",
    "\n",
    "# 初始化邏輯回歸模型，並設定最大迭代次數為 1000，避免在某些情況下模型無法收斂\n",
    "lr = LogisticRegression(max_iter=1000)\n",
    "\n",
    "# 初始化 Sequential Forward Selection (SFS)\n",
    "# k_features=4: 指定要選擇 4 個最佳特徵\n",
    "# forward=True: 使用順序前向選擇，即從無特徵開始，逐步加入最佳的特徵\n",
    "# floating=False: 禁用浮動選擇，即選擇固定數量的特徵\n",
    "# scoring='accuracy': 使用準確度作為評估標準\n",
    "# cv=0: 不進行交叉驗證，直接在訓練集上進行特徵選擇。若需要交叉驗證，可以設為其他正整數，例如 5\n",
    "sfs = SFS(lr,\n",
    "          k_features=4,  # 設置選擇 4 個最重要的特徵\n",
    "          forward=True,  # 開啟順序前向選擇\n",
    "          floating=False,  # 不進行浮動選擇\n",
    "          scoring='accuracy',  # 使用準確度作為評分標準\n",
    "          cv=0)  # 設置為 0，表示無交叉驗證，僅基於訓練集進行\n",
    "\n",
    "# 訓練順序前向選擇模型，並選擇最適合的特徵\n",
    "sfs.fit(X, y)  \n",
    "\n",
    "# 顯示選擇的最佳特徵索引\n",
    "print(\"Selected features indices:\", sfs.k_feature_idx_)\n",
    "\n",
    "# 根據選中的特徵索引顯示具體的特徵名稱\n",
    "selected_feature_names = X.columns[list(sfs.k_feature_idx_)]  \n",
    "print(\"Selected features:\", selected_feature_names)\n",
    "\n",
    "# 顯示選擇特徵的準確度\n",
    "print(f\"Selected feature subset accuracy: {sfs.k_score_:.4f}\")"
   ]
  },
  {
   "cell_type": "code",
   "execution_count": 3,
   "id": "4756b502-488c-4732-9f25-687b1c18a9a0",
   "metadata": {
    "tags": []
   },
   "outputs": [
    {
     "name": "stderr",
     "output_type": "stream",
     "text": [
      "/Users/benson/anaconda3/lib/python3.11/site-packages/numpy/core/_methods.py:269: RuntimeWarning: Degrees of freedom <= 0 for slice\n",
      "  ret = _var(a, axis=axis, dtype=dtype, out=out, ddof=ddof,\n",
      "/Users/benson/anaconda3/lib/python3.11/site-packages/numpy/core/_methods.py:261: RuntimeWarning: invalid value encountered in scalar divide\n",
      "  ret = ret.dtype.type(ret / rcount)\n"
     ]
    },
    {
     "data": {
      "image/png": "[encoded data removed]",
      "text/plain": [
       "<Figure size 640x480 with 1 Axes>"
      ]
     },
     "metadata": {},
     "output_type": "display_data"
    }
   ],
   "source": [
    "from mlxtend.plotting import plot_sequential_feature_selection as plot_sfs\n",
    "import matplotlib.pyplot as plt\n",
    "\n",
    "# 繪製隨著特徵數量變化的模型準確度曲線\n",
    "plot_sfs(sfs.get_metric_dict())  \n",
    "plt.show()"
   ]
  },
  {
   "cell_type": "markdown",
   "id": "b0ae531e-d40f-4d9a-85f6-a088e8ec6c25",
   "metadata": {},
   "source": [
    "# 順序後向選擇 (SBS, Sequential Backward Selection) "
   ]
  },
  {
   "cell_type": "code",
   "execution_count": 4,
   "id": "b66e5ceb-7481-4d8b-b4fc-0e4d5f41d28f",
   "metadata": {
    "tags": []
   },
   "outputs": [
    {
     "name": "stdout",
     "output_type": "stream",
     "text": [
      "Selected features indices: (2, 3)\n",
      "Selected features: Index(['petal length (cm)', 'petal width (cm)'], dtype='object')\n",
      "Selected feature subset accuracy: 0.9667\n"
     ]
    }
   ],
   "source": [
    "# 順序後向選擇 (SBS, Sequential Backward Selection) \n",
    "sfs = SFS(lr,\n",
    "          k_features=2,  # 設置選擇 2 個最重要的特徵\n",
    "          forward=False,  # 開啟順序後向選擇\n",
    "          floating=False,  # 不進行浮動選擇\n",
    "          scoring='accuracy',  # 使用準確度作為評分標準\n",
    "          cv=0)  # 設置為 0，表示無交叉驗證，僅基於訓練集進行\n",
    "\n",
    "# 訓練順序前向選擇模型，並選擇最適合的特徵\n",
    "sfs.fit(X, y)  \n",
    "\n",
    "# 顯示選擇的最佳特徵索引\n",
    "print(\"Selected features indices:\", sfs.k_feature_idx_)\n",
    "\n",
    "# 根據選中的特徵索引顯示具體的特徵名稱\n",
    "selected_feature_names = X.columns[list(sfs.k_feature_idx_)]  \n",
    "print(\"Selected features:\", selected_feature_names)\n",
    "\n",
    "# 顯示選擇特徵的準確度\n",
    "print(f\"Selected feature subset accuracy: {sfs.k_score_:.4f}\")"
   ]
  },
  {
   "cell_type": "markdown",
   "id": "b56bf89a-cea7-41d9-9e0f-0c26c2d9d5ac",
   "metadata": {},
   "source": [
    "# Recursive feature elimination(REF) with scikit-learn"
   ]
  },
  {
   "cell_type": "code",
   "execution_count": 5,
   "id": "0fca9bc6-b3da-4d7e-a352-8268c27e5679",
   "metadata": {
    "tags": []
   },
   "outputs": [
    {
     "name": "stdout",
     "output_type": "stream",
     "text": [
      "Accuracy of the model with RFE-selected features: 0.9733\n",
      "Feature ranking: [2 1 1 1]\n",
      "Selected features: [False  True  True  True]\n"
     ]
    }
   ],
   "source": [
    "import pandas as pd\n",
    "import numpy as np\n",
    "from sklearn.linear_model import LogisticRegression\n",
    "from sklearn.feature_selection import RFE  # 引入遞迴特徵消除方法\n",
    "from sklearn.preprocessing import StandardScaler  # 引入標準化處理\n",
    "\n",
    "# 載入資料\n",
    "X = np.array(df.iloc[:, :-1])  # 特徵集，假設最後一列是目標變數\n",
    "y = np.array(df.iloc[:, -1])   # 標籤集，假設最後一列是目標變數\n",
    "\n",
    "# 標準化特徵集，使其均值為0，方差為1\n",
    "X = StandardScaler().fit_transform(X)  # 使用 StandardScaler 進行標準化處理\n",
    "\n",
    "# 初始化邏輯回歸模型\n",
    "lr = LogisticRegression(max_iter=1000)  # 設定最大迭代次數為1000，防止收斂問題\n",
    "\n",
    "# 遞迴特徵消除 (RFE)，選擇最好的3個特徵\n",
    "rfe = RFE(lr, n_features_to_select=3)  # 設定選擇3個特徵\n",
    "\n",
    "# 訓練RFE模型並擬合數據\n",
    "rfe.fit(X, y)\n",
    "\n",
    "# 顯示使用RFE選擇的特徵對應的準確度\n",
    "print(f'Accuracy of the model with RFE-selected features: {rfe.score(X, y):.4f}')\n",
    "\n",
    "# 顯示每個特徵的排名，數字越小表示越重要\n",
    "print(\"Feature ranking:\", rfe.ranking_)\n",
    "\n",
    "# 顯示哪些特徵被選擇了 (True代表被選擇，False代表被排除)\n",
    "print(\"Selected features:\", rfe.support_)"
   ]
  },
  {
   "cell_type": "code",
   "execution_count": 6,
   "id": "3c319683-d603-4e8f-a900-798f99cee809",
   "metadata": {
    "tags": []
   },
   "outputs": [
    {
     "name": "stdout",
     "output_type": "stream",
     "text": [
      "更新日期: 2024年12月01日\n"
     ]
    }
   ],
   "source": [
    "import datetime\n",
    "\n",
    "current_date = datetime.datetime.now().strftime(\"%Y年%m月%d日\")\n",
    "print(f\"更新日期: {current_date}\")"
   ]
  }
 ],
 "metadata": {
  "kernelspec": {
   "display_name": "Python 3 (ipykernel)",
   "language": "python",
   "name": "python3"
  },
  "language_info": {
   "codemirror_mode": {
    "name": "ipython",
    "version": 3
   },
   "file_extension": ".py",
   "mimetype": "text/x-python",
   "name": "python",
   "nbconvert_exporter": "python",
   "pygments_lexer": "ipython3",
   "version": "3.11.5"
  }
 },
 "nbformat": 4,
 "nbformat_minor": 5
}
