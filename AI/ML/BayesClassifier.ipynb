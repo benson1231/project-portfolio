{
 "cells": [
  {
   "cell_type": "markdown",
   "id": "70d0a850-7c7b-421e-a66b-7fa15bdf6a70",
   "metadata": {},
   "source": [
    "# Naive Bayes classifier\n",
    "貝葉斯分類器是一種基於貝葉斯定理（Bayes' Theorem）的簡單但功能強大的分類演算法  \n",
    "1.高斯朴素貝葉斯（Gaussian Naive Bayes）：假設特徵服從正態分佈。  \n",
    "2.多項式貝葉斯（Multinomial Naive Bayes）：適用於離散計數資料（如文本分類中的詞頻）。  \n",
    "3.伯努利貝葉斯（Bernoulli Naive Bayes）：適用於二進制特徵。  "
   ]
  },
  {
   "cell_type": "code",
   "execution_count": 1,
   "id": "48e45d15-7842-494f-860d-ab177eb1f2a9",
   "metadata": {
    "tags": []
   },
   "outputs": [
    {
     "name": "stdout",
     "output_type": "stream",
     "text": [
      "The review is negative\n"
     ]
    }
   ],
   "source": [
    "# 定義正向和負向詞彙的出現次數計數器\n",
    "pos_counter = {\"good\": 10, \"great\": 15, \"excellent\": 7, \"love\": 8, \"amazing\": 6}  # 正向詞彙計數\n",
    "neg_counter = {\"terrible\": 12, \"bad\": 14, \"awful\": 9, \"hate\": 10, \"horrible\": 8}  # 負向詞彙計數\n",
    "\n",
    "# 範例評論\n",
    "review = \"This crib was terrible\"\n",
    "\n",
    "# 預設正向和負向類別的先驗比例\n",
    "percent_pos = 0.5  # 正向先驗機率\n",
    "percent_neg = 0.5  # 負向先驗機率\n",
    "\n",
    "# 計算總正向和負向詞彙的數量（用於條件機率計算）\n",
    "total_pos = sum(pos_counter.values())  # 正向詞彙總數\n",
    "total_neg = sum(neg_counter.values())  # 負向詞彙總數\n",
    "\n",
    "# 初始化後驗機率\n",
    "pos_probability = 1  # 正向的後驗機率初始化為1\n",
    "neg_probability = 1  # 負向的後驗機率初始化為1\n",
    "\n",
    "# 將評論進行分詞，轉換為小寫以便匹配詞彙\n",
    "review_words = review.lower().split()\n",
    "\n",
    "# 使用朴素貝葉斯算法計算條件機率\n",
    "for word in review_words:\n",
    "    # 獲取當前單詞在正向和負向詞彙中的出現次數，若未出現則預設為0\n",
    "    word_in_pos = pos_counter.get(word, 0)\n",
    "    word_in_neg = neg_counter.get(word, 0)\n",
    "\n",
    "    # 加入拉普拉斯平滑處理，防止出現條件機率為0的情況\n",
    "    pos_probability *= (word_in_pos + 1) / (total_pos + len(pos_counter))\n",
    "    neg_probability *= (word_in_neg + 1) / (total_neg + len(neg_counter))\n",
    "\n",
    "# 計算最終的後驗機率\n",
    "final_pos = pos_probability * percent_pos  # 正向機率 * 先驗機率\n",
    "final_neg = neg_probability * percent_neg  # 負向機率 * 先驗機率\n",
    "\n",
    "# 比較最終機率，輸出分類結果\n",
    "if final_pos > final_neg:\n",
    "    print(\"The review is positive\")  # 如果正向機率較高，分類為正向\n",
    "else:\n",
    "    print(\"The review is negative\")  # 如果負向機率較高，分類為負向"
   ]
  },
  {
   "cell_type": "markdown",
   "id": "b76603f0-f25e-4a82-bc1f-a856b257287b",
   "metadata": {},
   "source": [
    "# Naive Bayes using scikit-learn"
   ]
  },
  {
   "cell_type": "code",
   "execution_count": 2,
   "id": "7d42c5d5-3f64-402b-a68a-b2e88c9b858b",
   "metadata": {
    "tags": []
   },
   "outputs": [
    {
     "name": "stdout",
     "output_type": "stream",
     "text": [
      "詞彙表：\n",
      "{'this': 9, 'crib': 2, 'was': 10, 'terrible': 8, 'hate': 5, 'product': 7, 'worst': 11, 'experience': 4, 'ever': 3, 'amazing': 0, 'love': 6, 'best': 1}\n",
      "訓練數據的詞頻向量：\n",
      "[[0 0 1 0 0 0 0 0 1 1 1 0]\n",
      " [0 0 0 0 0 1 0 1 0 1 0 0]\n",
      " [0 0 0 1 1 0 0 0 0 0 0 1]\n",
      " [1 0 1 0 0 0 0 0 0 1 1 0]\n",
      " [0 0 0 0 0 0 1 1 0 1 0 0]\n",
      " [0 1 0 1 1 0 0 0 0 0 0 0]]\n",
      "待測評論的詞頻向量：\n",
      "[[1 0 1 0 0 0 0 0 0 1 1 0]]\n",
      "預測結果: 正面\n",
      "預測機率: [[0.33333333 0.66666667]]\n"
     ]
    }
   ],
   "source": [
    "from sklearn.feature_extraction.text import CountVectorizer\n",
    "from sklearn.naive_bayes import MultinomialNB\n",
    "\n",
    "# 假設的正面和負面評論列表\n",
    "neg_list = [\n",
    "    \"This crib was terrible\",  # 負面評論1\n",
    "    \"I hate this product\",     # 負面評論2\n",
    "    \"Worst experience ever\"    # 負面評論3\n",
    "]\n",
    "pos_list = [\n",
    "    \"This crib was amazing\",   # 正面評論1\n",
    "    \"I love this product\",     # 正面評論2\n",
    "    \"Best experience ever\"     # 正面評論3\n",
    "]\n",
    "\n",
    "# 待測評論\n",
    "review = \"This crib was amazing\"  # 需要判斷的評論\n",
    "\n",
    "# 1. 使用 CountVectorizer 建立詞頻矩陣\n",
    "counter = CountVectorizer()  # 初始化 CountVectorizer\n",
    "counter.fit(neg_list + pos_list)  # 根據所有評論進行詞彙表的學習\n",
    "print(\"詞彙表：\")\n",
    "print(counter.vocabulary_)  # 輸出詞彙表，每個詞與其索引的映射\n",
    "\n",
    "# 2. 將所有評論轉換為詞頻矩陣\n",
    "training_counts = counter.transform(neg_list + pos_list)  # 將整個訓練集轉換為詞頻矩陣\n",
    "print(\"訓練數據的詞頻向量：\")\n",
    "print(training_counts.toarray())  # 輸出所有訓練數據的詞頻矩陣\n",
    "\n",
    "# 3. 建立標籤：0 表示負面，1 表示正面\n",
    "training_labels = [0] * len(neg_list) + [1] * len(pos_list)  # 負面為0，正面為1\n",
    "\n",
    "# 4. 訓練 Naive Bayes 模型\n",
    "classifier = MultinomialNB()  # 初始化 Multinomial Naive Bayes 模型\n",
    "classifier.fit(training_counts, training_labels)  # 使用詞頻矩陣與標籤訓練模型\n",
    "\n",
    "# 5. 將待測評論轉換為詞頻向量\n",
    "review_counts = counter.transform([review])  # 將單條評論轉換為詞頻矩陣\n",
    "print(\"待測評論的詞頻向量：\")\n",
    "print(review_counts.toarray())  # 輸出待測評論的詞頻數值矩陣\n",
    "\n",
    "# 6. 預測待測評論\n",
    "prediction = classifier.predict(review_counts)  # 預測評論的類別\n",
    "probabilities = classifier.predict_proba(review_counts)  # 預測評論的類別概率\n",
    "\n",
    "# 7. 輸出結果\n",
    "print(\"預測結果:\", \"正面\" if prediction[0] == 1 else \"負面\")  # 根據預測結果輸出正面或負面\n",
    "print(\"預測機率:\", probabilities)  # 輸出正面與負面概率\n"
   ]
  },
  {
   "cell_type": "code",
   "execution_count": 3,
   "id": "5df06a45-6efb-4d84-a80a-e3375633f668",
   "metadata": {},
   "outputs": [
    {
     "name": "stdout",
     "output_type": "stream",
     "text": [
      "更新日期: 2024年12月01日\n"
     ]
    }
   ],
   "source": [
    "import datetime\n",
    "\n",
    "current_date = datetime.datetime.now().strftime(\"%Y年%m月%d日\")\n",
    "print(f\"更新日期: {current_date}\")"
   ]
  }
 ],
 "metadata": {
  "kernelspec": {
   "display_name": "Python 3 (ipykernel)",
   "language": "python",
   "name": "python3"
  },
  "language_info": {
   "codemirror_mode": {
    "name": "ipython",
    "version": 3
   },
   "file_extension": ".py",
   "mimetype": "text/x-python",
   "name": "python",
   "nbconvert_exporter": "python",
   "pygments_lexer": "ipython3",
   "version": "3.11.5"
  }
 },
 "nbformat": 4,
 "nbformat_minor": 5
}
