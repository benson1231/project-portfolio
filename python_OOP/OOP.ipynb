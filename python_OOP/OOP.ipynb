{
 "cells": [
  {
   "cell_type": "markdown",
   "id": "989bf283-bed3-42c7-a0b9-54af798354ff",
   "metadata": {},
   "source": [
    "# Inheritance\n",
    "Python allows classes to inherit on multiple levels. Meaning a class can inherit from a base class as well as a derived class. Python also supports multiple inheritance, where one class can inherit from any number of other classes. This allows us to describe complex relationships between objects with minimal repeated code."
   ]
  },
  {
   "cell_type": "code",
   "execution_count": 3,
   "id": "4e1ddccc-197a-4559-8381-8c0e222737c9",
   "metadata": {
    "tags": []
   },
   "outputs": [],
   "source": [
    "class Animal: \n",
    "  def eat(self): \n",
    "    print(\"Nom Nom Nom...eating food!\")\n",
    "\n",
    "class Dog(Animal):\n",
    "  def bark(self):\n",
    "    print('Bark!')\n",
    "\n",
    "class Cat(Animal):\n",
    "  def meow(self):\n",
    "    print('Meow!')\n"
   ]
  },
  {
   "cell_type": "code",
   "execution_count": null,
   "id": "3c0bc160-adb7-4ee8-9ef7-f71a802bf207",
   "metadata": {
    "tags": []
   },
   "outputs": [
    {
     "name": "stdout",
     "output_type": "stream",
     "text": [
      "Nom Nom Nom...eating food!\n",
      "Nom Nom Nom...eating food!\n"
     ]
    }
   ],
   "source": [
    "fluffy = Dog()\n",
    "zoomie = Cat()\n",
    "\n",
    "fluffy.eat() # Nom Nom Nom...eating food!\n",
    "zoomie.eat() # Nom Nom Nom...eating food!"
   ]
  },
  {
   "cell_type": "markdown",
   "id": "4c039b96-5633-4e7f-aeca-5e7f8f4dafbc",
   "metadata": {},
   "source": [
    "# Polymorphism\n",
    "Polymorphism is a concept that allows functions and objects to behave in different ways depending on context. There is the of functions like len() or the addition operator +, which can act differently depending on the provided data."
   ]
  },
  {
   "cell_type": "code",
   "execution_count": 5,
   "id": "9ec7923c-3179-497b-a074-57680e2defb8",
   "metadata": {
    "tags": []
   },
   "outputs": [
    {
     "name": "stdout",
     "output_type": "stream",
     "text": [
      "I am an Admin\n"
     ]
    }
   ],
   "source": [
    "# Overriding Methods\n",
    "class Employee():\n",
    "  new_id = 1\n",
    "  def __init__(self):\n",
    "    self.id = Employee.new_id\n",
    "    Employee.new_id += 1\n",
    "\n",
    "  def say_id(self):\n",
    "    print(\"My id is {}.\".format(self.id))\n",
    "\n",
    "class Admin(Employee):\n",
    "  def say_id(self):\n",
    "    print(\"I am an Admin\")\n",
    "\n",
    "e3 = Admin()\n",
    "e3.say_id()"
   ]
  },
  {
   "cell_type": "code",
   "execution_count": 6,
   "id": "4d20240c-8602-4bdf-9018-786d6bfe8773",
   "metadata": {
    "tags": []
   },
   "outputs": [
    {
     "name": "stdout",
     "output_type": "stream",
     "text": [
      "Rachel says, Meow!\n"
     ]
    }
   ],
   "source": [
    "# super()\n",
    "\n",
    "class Animal:\n",
    "  def __init__(self, name, sound=\"Grrrr\"):\n",
    "    self.name = name\n",
    "    self.sound = sound\n",
    "\n",
    "  def make_noise(self):\n",
    "    print(\"{} says, {}\".format(self.name, self.sound))\n",
    "\n",
    "class Cat(Animal):\n",
    "  def __init__(self, name):\n",
    "    super().__init__(name, \"Meow!\") \n",
    "\n",
    "pet_cat = Cat(\"Rachel\")\n",
    "pet_cat.make_noise() # Rachel says, Meow!\n"
   ]
  },
  {
   "cell_type": "markdown",
   "id": "13d46bd1-b368-400e-b8d1-b8cd552ac244",
   "metadata": {},
   "source": [
    "# Abstraction\n",
    "Python supports the concept of abstraction by allowing objects with methods that have the same name, to be called in a general manner. Further, Python provides the Abstract Base Class (ABC) for us to create a more clearly defined interface."
   ]
  },
  {
   "cell_type": "code",
   "execution_count": null,
   "id": "8982bc74-156a-49c8-8e54-29ba9233e769",
   "metadata": {},
   "outputs": [],
   "source": [
    "from abc import ABC, abstractmethod\n",
    "\n",
    "class Animal(ABC):\n",
    "  def __init__(self, name):\n",
    "    self.name = name\n",
    "\n",
    "  @abstractmethod\n",
    "  def make_noise(self):\n",
    "    pass\n",
    "\n",
    "class Cat(Animal):\n",
    "  def make_noise(self):\n",
    "    print(\"{} says, Meow!\".format(self.name))\n",
    "\n",
    "class Dog(Animal):\n",
    "  def make_noise(self):\n",
    "    print(\"{} says, Woof!\".format(self.name))\n",
    "\n",
    "kitty = Cat(\"Maisy\")\n",
    "doggy = Dog(\"Amber\")\n",
    "kitty.make_noise() # \"Maisy says, Meow!\"\n",
    "doggy.make_noise() # \"Amber says, Woof!\"\n"
   ]
  },
  {
   "cell_type": "markdown",
   "id": "ee613328-37b0-492b-a091-a8fcdbf20edc",
   "metadata": {},
   "source": [
    "# Encapsulation\n",
    "Python’s approach to encapsulation is unique compared to most other object-oriented programming languages. In Python, all members of an object are publicly accessible but there are conventions to indicate to developers that a member is intended to be protected or private."
   ]
  },
  {
   "cell_type": "code",
   "execution_count": 10,
   "id": "15e0a2eb-e1fe-4767-a34a-40be8ea95d04",
   "metadata": {
    "tags": []
   },
   "outputs": [
    {
     "name": "stdout",
     "output_type": "stream",
     "text": [
      "['__class__', '__delattr__', '__dict__', '__dir__', '__doc__', '__eq__', '__format__', '__ge__', '__getattribute__', '__getstate__', '__gt__', '__hash__', '__init__', '__init_subclass__', '__le__', '__lt__', '__module__', '__ne__', '__new__', '__reduce__', '__reduce_ex__', '__repr__', '__setattr__', '__sizeof__', '__str__', '__subclasshook__', '__weakref__', '_id']\n"
     ]
    }
   ],
   "source": [
    "class Employee():\n",
    "    def __init__(self):\n",
    "        self._id = 5\n",
    "\n",
    "e = Employee()\n",
    "print(dir(e))"
   ]
  },
  {
   "cell_type": "code",
   "execution_count": 11,
   "id": "8f659693-bd58-452a-b404-2f5c0a5d8313",
   "metadata": {
    "tags": []
   },
   "outputs": [],
   "source": [
    "# Getters, Setters and Deleters\n",
    "\n",
    "class Animal:\n",
    "  def __init__(self, name):\n",
    "    self._name = name\n",
    "    self._age = None\n",
    "\n",
    "  def get_age(self):\n",
    "    return self._age\n",
    "\n",
    "  def set_age(self, new_age):\n",
    "    if isinstance(new_age, int):\n",
    "      self._age = new_age\n",
    "    else:\n",
    "      raise TypeError\n",
    "\n",
    "  def delete_age(self):\n",
    "    del self._age\n",
    "    print(\"_age Deleted\")"
   ]
  },
  {
   "cell_type": "code",
   "execution_count": 12,
   "id": "94147055-3a28-4b87-a7a1-40af35e4aff6",
   "metadata": {
    "tags": []
   },
   "outputs": [
    {
     "name": "stdout",
     "output_type": "stream",
     "text": [
      "None\n",
      "10\n"
     ]
    },
    {
     "ename": "TypeError",
     "evalue": "",
     "output_type": "error",
     "traceback": [
      "\u001b[0;31m---------------------------------------------------------------------------\u001b[0m",
      "\u001b[0;31mTypeError\u001b[0m                                 Traceback (most recent call last)",
      "Cell \u001b[0;32mIn[12], line 7\u001b[0m\n\u001b[1;32m      4\u001b[0m a\u001b[38;5;241m.\u001b[39mset_age(\u001b[38;5;241m10\u001b[39m)\n\u001b[1;32m      5\u001b[0m \u001b[38;5;28mprint\u001b[39m(a\u001b[38;5;241m.\u001b[39mget_age()) \u001b[38;5;66;03m# 10\u001b[39;00m\n\u001b[0;32m----> 7\u001b[0m a\u001b[38;5;241m.\u001b[39mset_age(\u001b[38;5;124m\"\u001b[39m\u001b[38;5;124mTen\u001b[39m\u001b[38;5;124m\"\u001b[39m) \u001b[38;5;66;03m# Raises a TypeError\u001b[39;00m\n\u001b[1;32m      9\u001b[0m a\u001b[38;5;241m.\u001b[39mdelete_age() \u001b[38;5;66;03m# \"_age Deleted\"\u001b[39;00m\n\u001b[1;32m     10\u001b[0m \u001b[38;5;28mprint\u001b[39m(a\u001b[38;5;241m.\u001b[39mget_age())\n",
      "Cell \u001b[0;32mIn[11], line 15\u001b[0m, in \u001b[0;36mAnimal.set_age\u001b[0;34m(self, new_age)\u001b[0m\n\u001b[1;32m     13\u001b[0m   \u001b[38;5;28mself\u001b[39m\u001b[38;5;241m.\u001b[39m_age \u001b[38;5;241m=\u001b[39m new_age\n\u001b[1;32m     14\u001b[0m \u001b[38;5;28;01melse\u001b[39;00m:\n\u001b[0;32m---> 15\u001b[0m   \u001b[38;5;28;01mraise\u001b[39;00m \u001b[38;5;167;01mTypeError\u001b[39;00m\n",
      "\u001b[0;31mTypeError\u001b[0m: "
     ]
    }
   ],
   "source": [
    "a = Animal(\"Rufus\")\n",
    "print(a.get_age()) # None\n",
    "\n",
    "a.set_age(10)\n",
    "print(a.get_age()) # 10\n",
    "\n",
    "a.set_age(\"Ten\") # Raises a TypeError\n",
    "\n",
    "a.delete_age() # \"_age Deleted\"\n",
    "print(a.get_age()) # Raises a AttributeError\n"
   ]
  },
  {
   "cell_type": "markdown",
   "id": "8ec72d33-3ae3-4fa6-9f19-cea23182b037",
   "metadata": {},
   "source": [
    "# property()"
   ]
  },
  {
   "cell_type": "code",
   "execution_count": 17,
   "id": "35520885-4089-4349-8092-c25f900a6668",
   "metadata": {
    "tags": []
   },
   "outputs": [
    {
     "name": "stdout",
     "output_type": "stream",
     "text": [
      "10\n"
     ]
    }
   ],
   "source": [
    "class Box:\n",
    "  def __init__(self, weight):\n",
    "    self.__weight = weight\n",
    "\n",
    "  def getWeight(self):\n",
    "    return self.__weight\n",
    " \n",
    "  def setWeight(self, weight):\n",
    "    if weight >= 0:\n",
    "      self.__weight = weight\n",
    "\n",
    "  def delWeight(self):\n",
    "    del self.__weight\n",
    "\n",
    "  weight = property(getWeight, setWeight, delWeight, \"Docstring for the 'weight' property\")\n",
    "\n",
    "box = Box(10)\n",
    "\n",
    "print(box.weight) #this calls .getWeight()\n",
    "\n",
    "box.weight = 5 #this called .setWeight()\n",
    "\n",
    "del box.weight #this calls .delWeight()\n",
    "\n",
    "box.weight = -5 #box.__weight is unchanged "
   ]
  },
  {
   "cell_type": "code",
   "execution_count": 19,
   "id": "5b33b8a5-04bb-4378-9612-4cb0cc8c2cab",
   "metadata": {
    "tags": []
   },
   "outputs": [],
   "source": [
    "class Box:\n",
    " def __init__(self, weight):\n",
    "   self.__weight = weight\n",
    "\n",
    " @property\n",
    " def weight(self):\n",
    "   \"\"\"Docstring for the 'weight' property\"\"\"\n",
    "   return self.__weight\n",
    "\n",
    "\n",
    " @weight.setter\n",
    " def weight(self, weight):\n",
    "   if weight >= 0:\n",
    "     self.__weight = weight\n",
    "\n",
    " @weight.deleter\n",
    " def weight(self):\n",
    "   del self.__weight\n",
    "\n",
    "box = Box(10)\n",
    "\n",
    "box.weight = 5\n",
    "\n",
    "del box.weight"
   ]
  },
  {
   "cell_type": "code",
   "execution_count": null,
   "id": "60887c74-4155-4e72-99fb-5cdaa040086c",
   "metadata": {},
   "outputs": [],
   "source": []
  }
 ],
 "metadata": {
  "kernelspec": {
   "display_name": "Python 3 (ipykernel)",
   "language": "python",
   "name": "python3"
  },
  "language_info": {
   "codemirror_mode": {
    "name": "ipython",
    "version": 3
   },
   "file_extension": ".py",
   "mimetype": "text/x-python",
   "name": "python",
   "nbconvert_exporter": "python",
   "pygments_lexer": "ipython3",
   "version": "3.11.5"
  }
 },
 "nbformat": 4,
 "nbformat_minor": 5
}
