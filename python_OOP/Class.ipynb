{
 "cells": [
  {
   "cell_type": "markdown",
   "id": "11ca19ec",
   "metadata": {},
   "source": [
    "# 基本 Class 語法"
   ]
  },
  {
   "cell_type": "code",
   "execution_count": 1,
   "id": "18e62c9b-4d66-4a69-889d-1c4601762625",
   "metadata": {
    "tags": []
   },
   "outputs": [
    {
     "name": "stdout",
     "output_type": "stream",
     "text": [
      "Rockstar\n"
     ]
    }
   ],
   "source": [
    "class Musician:\n",
    "  title = \"Rockstar\"\n",
    "\n",
    "drummer = Musician()\n",
    "print(drummer.title)"
   ]
  },
  {
   "cell_type": "code",
   "execution_count": 2,
   "id": "4db8be15-3347-43f7-ad56-2c7057c1f8c7",
   "metadata": {
    "tags": []
   },
   "outputs": [
    {
     "name": "stdout",
     "output_type": "stream",
     "text": [
      "113.04\n"
     ]
    }
   ],
   "source": [
    "class Circle:\n",
    "  pi = 3.14\n",
    "  def area(self,radius):\n",
    "    return Circle.pi * radius ** 2\n",
    "\n",
    "circle = Circle()\n",
    "pizza_area = circle.area(6)\n",
    "\n",
    "print(pizza_area)"
   ]
  },
  {
   "cell_type": "markdown",
   "id": "e99a0345-4b02-4511-9c69-6327b7b83d24",
   "metadata": {},
   "source": [
    "# Dunder (Double Underscore) 方法\n",
    "\"Dunder\" 是 \"double underscore\" 的簡稱，用於描述 Python 類別中的特殊方法（或魔術方法）。這些方法以 __ 開頭和結尾，通常由 Python 自動調用，為類別提供額外的功能和行為。以下是兩個常見的 dunder 方法：\n",
    "### __init__ (constructor)\n",
    "是 Python 類別的初始化方法，在創建物件時自動執行。\n",
    "用於設置物件的初始狀態（如屬性值），可以接受參數。\n",
    "### __repr__ (string representation method)\n",
    "是 Python 的官方表示方法，用於定義物件的可讀性字符串表示。\n",
    "當使用 repr() 或在控制台直接輸入物件時會調用該方法。\n",
    "適合用於開發和除錯，幫助開發者清楚看到物件的內容。"
   ]
  },
  {
   "cell_type": "code",
   "execution_count": 3,
   "id": "7de32ae6-0751-4e36-aab8-4b50bf29b2c6",
   "metadata": {
    "tags": []
   },
   "outputs": [
    {
     "name": "stdout",
     "output_type": "stream",
     "text": [
      "Argus Filch\n"
     ]
    }
   ],
   "source": [
    "class Employee():\n",
    "  def __init__(self, name):\n",
    "    self.name = name\n",
    "\n",
    "  def __repr__(self):\n",
    "    return self.name\n",
    "\n",
    "argus = Employee(\"Argus Filch\")\n",
    "print(argus)"
   ]
  },
  {
   "cell_type": "code",
   "execution_count": 4,
   "id": "3bf4cc7d-cfcd-452f-97cc-1dc5d84e2f2b",
   "metadata": {
    "tags": []
   },
   "outputs": [
    {
     "name": "stdout",
     "output_type": "stream",
     "text": [
      "SHOUT\n",
      "SHOUT\n",
      "LET IT ALL OUT\n"
     ]
    }
   ],
   "source": [
    "class Shouter:\n",
    "  def __init__(self, phrase):\n",
    "    if type(phrase) == str:\n",
    "      print(phrase.upper())\n",
    "\n",
    "shout1 = Shouter(\"shout\")\n",
    "shout2 = Shouter(\"shout\")\n",
    "shout3 = Shouter(\"let it all out\")"
   ]
  },
  {
   "cell_type": "markdown",
   "id": "67ca7ad2-f4eb-4bdf-8332-4a2dc65f67fc",
   "metadata": {},
   "source": [
    "# Python 的類別（class）可以動態地新增屬性（attribute）"
   ]
  },
  {
   "cell_type": "code",
   "execution_count": 5,
   "id": "0fa6a4ca-440c-4f1b-8dc3-93f7c5305272",
   "metadata": {
    "tags": []
   },
   "outputs": [
    {
     "name": "stdout",
     "output_type": "stream",
     "text": [
      "This works! This too!\n"
     ]
    }
   ],
   "source": [
    "class FakeDict:\n",
    "  pass\n",
    "\n",
    "fake_dict1 = FakeDict()\n",
    "fake_dict2 = FakeDict()\n",
    "\n",
    "# add new attribute\n",
    "fake_dict1.fake_key = \"This works!\"\n",
    "fake_dict2.fake_key = \"This too!\"\n",
    "\n",
    "working_string = \"{} {}\".format(fake_dict1.fake_key, fake_dict2.fake_key)\n",
    "print(working_string)"
   ]
  },
  {
   "cell_type": "code",
   "execution_count": 6,
   "id": "faef2148-7b4b-4ca9-971a-9cebe552376f",
   "metadata": {
    "tags": []
   },
   "outputs": [
    {
     "name": "stdout",
     "output_type": "stream",
     "text": [
      "No attribute!\n"
     ]
    }
   ],
   "source": [
    "class NoCustomAttributes:\n",
    "  pass\n",
    "\n",
    "attributeless = NoCustomAttributes()\n",
    "\n",
    "try:\n",
    "  attributeless.fake_attribute\n",
    "except AttributeError:\n",
    "  print(\"No attribute!\")"
   ]
  },
  {
   "cell_type": "markdown",
   "id": "9f7f1f1b-fecb-4e83-8123-b460155b3b22",
   "metadata": {},
   "source": [
    "# hasattr(object, “attribute”)\n",
    "功能：檢查物件是否有某個屬性\n",
    "回傳值：True 或 False\n",
    "\n",
    "# getattr(object, “attribute”, default)\n",
    "功能：取得物件的指定屬性值\n",
    "回傳值：屬性值，若屬性不存在且提供了 default，則回傳 default"
   ]
  },
  {
   "cell_type": "code",
   "execution_count": 7,
   "id": "57d7993b-9703-4a19-af5e-87d3be0f2c07",
   "metadata": {
    "tags": []
   },
   "outputs": [
    {
     "name": "stdout",
     "output_type": "stream",
     "text": [
      "False\n",
      "800\n"
     ]
    }
   ],
   "source": [
    "result1 = hasattr(attributeless, \"fake_attribute\")\n",
    "print(result1)\n",
    "\n",
    "result2 = getattr(attributeless, \"other_fake_attribute\", 800)\n",
    "print(result2)"
   ]
  },
  {
   "cell_type": "code",
   "execution_count": 8,
   "id": "e553aa1c-392e-442d-b0d7-e3b4aaa86eb8",
   "metadata": {
    "tags": []
   },
   "outputs": [
    {
     "name": "stdout",
     "output_type": "stream",
     "text": [
      "Creating circle with diameter 12\n",
      "37.68\n"
     ]
    }
   ],
   "source": [
    "class Circle:\n",
    "  pi = 3.14\n",
    "  def __init__(self, diameter):\n",
    "    print(\"Creating circle with diameter {d}\".format(d=diameter))\n",
    "    self.radius = diameter / 2\n",
    "\n",
    "  def circumference(self):\n",
    "    return  2 * self.pi * self.radius\n",
    "\n",
    "medium_pizza=Circle(12)\n",
    "\n",
    "print(medium_pizza.circumference())"
   ]
  },
  {
   "cell_type": "code",
   "execution_count": 9,
   "id": "396065c3-a9f4-4201-a763-e433ebe2e95c",
   "metadata": {
    "tags": []
   },
   "outputs": [
    {
     "name": "stdout",
     "output_type": "stream",
     "text": [
      "Pieter Bruegel the Elder\n",
      "8\n",
      "[100]\n"
     ]
    }
   ],
   "source": [
    "class Student:\n",
    "  def __init__(self, name, year):\n",
    "    self.name = name\n",
    "    self.year = year\n",
    "    self.grades = []\n",
    "  \n",
    "  def add_grade(self, grade):\n",
    "    if type(grade) is Grade:\n",
    "      self.grades.append(grade)      \n",
    "\n",
    "class Grade:\n",
    "  minimum_passing = 65\n",
    "  \n",
    "  def __init__(self, score):\n",
    "    self.score = score\n",
    "\n",
    "  def __repr__(self):\n",
    "    return f\"{self.score}\"\n",
    "    \n",
    "pieter = Student(\"Pieter Bruegel the Elder\", 8)\n",
    "pieter.add_grade(Grade(100))\n",
    "\n",
    "print(pieter.name)\n",
    "print(pieter.year)\n",
    "print(pieter.grades)"
   ]
  }
 ],
 "metadata": {
  "kernelspec": {
   "display_name": "base",
   "language": "python",
   "name": "python3"
  },
  "language_info": {
   "codemirror_mode": {
    "name": "ipython",
    "version": 3
   },
   "file_extension": ".py",
   "mimetype": "text/x-python",
   "name": "python",
   "nbconvert_exporter": "python",
   "pygments_lexer": "ipython3",
   "version": "3.12.7"
  }
 },
 "nbformat": 4,
 "nbformat_minor": 5
}
