{
 "cells": [
  {
   "cell_type": "markdown",
   "id": "6fd7511b-31ae-4f4a-87aa-4d6b35b46b07",
   "metadata": {},
   "source": [
    "# Perceptron\n",
    "Perception: the ability to sense something  \n",
    "Neuron: a nerve cell in the human brain that turns sensory input into meaningful information"
   ]
  },
  {
   "cell_type": "code",
   "execution_count": 1,
   "id": "3f243eed-e561-4a18-b7e7-b24e57bfdfd3",
   "metadata": {
    "tags": []
   },
   "outputs": [],
   "source": [
    "import numpy as np\n",
    "\n",
    "class Perceptron:\n",
    "    def __init__(self, num_features, learning_rate=0.1, epochs=100):\n",
    "        \"\"\"\n",
    "        初始化感知器\n",
    "        :param num_features: 特徵數量\n",
    "        :param learning_rate: 學習率\n",
    "        :param epochs: 最大迭代次數\n",
    "        \"\"\"\n",
    "        self.weights = np.zeros(num_features + 1)  # 包含偏置的權重初始化為 0\n",
    "        self.learning_rate = learning_rate\n",
    "        self.epochs = epochs\n",
    "\n",
    "    def predict(self, inputs):\n",
    "        \"\"\"\n",
    "        根據加權和計算輸出\n",
    "        :param inputs: 輸入向量\n",
    "        :return: 預測結果（1 或 -1）\n",
    "        \"\"\"\n",
    "        weighted_sum = np.dot(inputs, self.weights[1:]) + self.weights[0]  # 加入偏置\n",
    "        return 1 if weighted_sum >= 0 else -1\n",
    "\n",
    "    def train(self, training_data, labels):\n",
    "        \"\"\"\n",
    "        訓練感知器\n",
    "        :param training_data: 訓練數據（2D array）\n",
    "        :param labels: 對應的標籤（1 或 -1）\n",
    "        \"\"\"\n",
    "        for epoch in range(self.epochs):\n",
    "            for inputs, label in zip(training_data, labels):\n",
    "                prediction = self.predict(inputs)\n",
    "                # 更新權重和偏置\n",
    "                update = self.learning_rate * (label - prediction)\n",
    "                self.weights[1:] += update * inputs\n",
    "                self.weights[0] += update\n",
    "\n",
    "    def evaluate(self, test_data, test_labels):\n",
    "        \"\"\"\n",
    "        評估模型準確率\n",
    "        :param test_data: 測試數據\n",
    "        :param test_labels: 測試標籤\n",
    "        :return: 準確率\n",
    "        \"\"\"\n",
    "        predictions = [self.predict(x) for x in test_data]\n",
    "        accuracy = sum(p == y for p, y in zip(predictions, test_labels)) / len(test_labels)\n",
    "        return accuracy"
   ]
  },
  {
   "cell_type": "code",
   "execution_count": 2,
   "id": "d1ff8690-46dd-4dea-a756-015a92653eb7",
   "metadata": {
    "tags": []
   },
   "outputs": [
    {
     "name": "stdout",
     "output_type": "stream",
     "text": [
      "測試準確率: 100.00%\n",
      "輸入: [3 3], 預測: 1\n",
      "輸入: [-1 -3], 預測: -1\n",
      "輸入: [0 0], 預測: -1\n"
     ]
    }
   ],
   "source": [
    "# 測試感知器\n",
    "if __name__ == \"__main__\":\n",
    "    # 建立簡單的二分類數據\n",
    "    X = np.array([\n",
    "        [2, 3],\n",
    "        [1, 1],\n",
    "        [5, 2],\n",
    "        [1, -1],\n",
    "        [-1, -2],\n",
    "        [-2, -1]\n",
    "    ])\n",
    "    y = np.array([1, 1, 1, -1, -1, -1])  # 標籤\n",
    "\n",
    "    # 初始化感知器\n",
    "    perceptron = Perceptron(num_features=2)\n",
    "    perceptron.train(X, y)\n",
    "\n",
    "    # 測試數據\n",
    "    test_X = np.array([\n",
    "        [3, 3],\n",
    "        [-1, -3],\n",
    "        [0, 0]\n",
    "    ])\n",
    "    test_y = np.array([1, -1, -1])  # 預期標籤\n",
    "\n",
    "    # 評估準確率\n",
    "    accuracy = perceptron.evaluate(test_X, test_y)\n",
    "    print(f\"測試準確率: {accuracy * 100:.2f}%\")\n",
    "\n",
    "    # 印出測試結果\n",
    "    for inputs in test_X:\n",
    "        prediction = perceptron.predict(inputs)\n",
    "        print(f\"輸入: {inputs}, 預測: {prediction}\")"
   ]
  }
 ],
 "metadata": {
  "kernelspec": {
   "display_name": "base",
   "language": "python",
   "name": "python3"
  },
  "language_info": {
   "codemirror_mode": {
    "name": "ipython",
    "version": 3
   },
   "file_extension": ".py",
   "mimetype": "text/x-python",
   "name": "python",
   "nbconvert_exporter": "python",
   "pygments_lexer": "ipython3",
   "version": "3.12.9"
  }
 },
 "nbformat": 4,
 "nbformat_minor": 5
}
