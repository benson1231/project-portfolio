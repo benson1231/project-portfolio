{
 "cells": [
  {
   "cell_type": "markdown",
   "id": "9a7b667c-032f-42c0-ae2e-36cd14d149da",
   "metadata": {},
   "source": [
    "# The Threading Module"
   ]
  },
  {
   "cell_type": "code",
   "execution_count": 5,
   "id": "cb5536c4-55f9-405d-9127-cf606d930fc5",
   "metadata": {
    "tags": []
   },
   "outputs": [
    {
     "name": "stdout",
     "output_type": "stream",
     "text": [
      "Codecademy\n",
      "says hello!\n",
      "Sequential Programming Elapsed Time: 2.0023088329471648 seconds\n"
     ]
    }
   ],
   "source": [
    "import time\n",
    "import threading\n",
    "\n",
    "def greeting_with_sleep(string):\n",
    "  s = time.perf_counter()\n",
    "  print(string)\n",
    "  time.sleep(2)\n",
    "  print(\"says hello!\")\n",
    "  elapsed = time.perf_counter() - s\n",
    "  print(\"Sequential Programming Elapsed Time: \" + str(elapsed) + \" seconds\")\n",
    "\n",
    "t = threading.Thread(target=greeting_with_sleep, args=('Codecademy',))\n",
    "t.start()"
   ]
  },
  {
   "cell_type": "markdown",
   "id": "894df264-174a-40f5-8ff5-02959816c2ce",
   "metadata": {},
   "source": [
    "# Using Multiple Threads"
   ]
  },
  {
   "cell_type": "code",
   "execution_count": 13,
   "id": "aa58c7d4-db1d-4cab-bb9c-074d807363ae",
   "metadata": {
    "tags": []
   },
   "outputs": [
    {
     "name": "stdout",
     "output_type": "stream",
     "text": [
      "CodecademyChelsea\n",
      "\n",
      "Hisham\n",
      "Ashley\n",
      "Threading Elapsed Time: 0.002135624992661178 seconds\n",
      "says hello!says hello!\n",
      "says hello!\n",
      "\n",
      "says hello!\n"
     ]
    }
   ],
   "source": [
    "import time\n",
    "import threading\n",
    "def greeting_with_sleep(string):\n",
    "  print(string)\n",
    "  time.sleep(2)\n",
    "  print(\"says hello!\")\n",
    "\n",
    "def main_threading():\n",
    "  s = time.perf_counter()\n",
    "  greetings = ['Codecademy', 'Chelsea', 'Hisham', 'Ashley']\n",
    "  for i in range(len(greetings)):\n",
    "    t = threading.Thread(target=greeting_with_sleep, args=(greetings[i],))\n",
    "    t.start()\n",
    "  elapsed = time.perf_counter() - s\n",
    "  print(\"Threading Elapsed Time: \" + str(elapsed) + \" seconds\")\n",
    "\n",
    "main_threading()"
   ]
  },
  {
   "cell_type": "markdown",
   "id": "4c65f137-a617-45a7-895f-d550f1a25136",
   "metadata": {},
   "source": [
    "# The Asyncio Module"
   ]
  },
  {
   "cell_type": "code",
   "execution_count": 26,
   "id": "814ed881-5b5a-40cd-b9dc-18dcd92ffa2f",
   "metadata": {
    "tags": []
   },
   "outputs": [
    {
     "name": "stdout",
     "output_type": "stream",
     "text": [
      "Hello\n",
      "says hello!\n",
      "Asyncio Elapsed Time: 2.0027297500055283 seconds\n"
     ]
    }
   ],
   "source": [
    "import time\n",
    "import asyncio\n",
    "\n",
    "async def greeting_with_sleep_async(string):\n",
    "    s = time.perf_counter()\n",
    "    print(string)\n",
    "    await asyncio.sleep(2)\n",
    "    print(\"says hello!\")\n",
    "    elapsed = time.perf_counter() - s\n",
    "    print(\"Asyncio Elapsed Time: \" + str(elapsed) + \" seconds\")\n",
    "\n",
    "# 在 Jupyter 中直接使用 await\n",
    "await greeting_with_sleep_async(\"Hello\")"
   ]
  },
  {
   "cell_type": "code",
   "execution_count": 27,
   "id": "ceeeb1fd-8abc-4f99-9915-2955709bb82a",
   "metadata": {
    "tags": []
   },
   "outputs": [
    {
     "name": "stdout",
     "output_type": "stream",
     "text": [
      "Hello\n",
      "says hello!\n",
      "Asyncio Elapsed Time: 2.0016194169875234 seconds\n"
     ]
    }
   ],
   "source": [
    "import time\n",
    "import asyncio\n",
    "import nest_asyncio\n",
    "\n",
    "nest_asyncio.apply()  # 解決 Jupyter 事件迴圈問題\n",
    "\n",
    "async def greeting_with_sleep_async(string):\n",
    "    s = time.perf_counter()\n",
    "    print(string)\n",
    "    await asyncio.sleep(2)\n",
    "    print(\"says hello!\")\n",
    "    elapsed = time.perf_counter() - s\n",
    "    print(\"Asyncio Elapsed Time: \" + str(elapsed) + \" seconds\")\n",
    "\n",
    "# 使用 asyncio.run\n",
    "asyncio.run(greeting_with_sleep_async(\"Hello\"))"
   ]
  },
  {
   "cell_type": "markdown",
   "id": "29291f45-1d9a-4fc8-94c3-b266d5f8e3f6",
   "metadata": {},
   "source": [
    "# The Multiprocessing Module"
   ]
  },
  {
   "cell_type": "code",
   "execution_count": 32,
   "id": "041a260f-17c8-44db-b332-fa9231360b8b",
   "metadata": {
    "tags": []
   },
   "outputs": [
    {
     "name": "stdout",
     "output_type": "stream",
     "text": [
      "Multiprocessing Elapsed Time: 0.08 seconds\n"
     ]
    },
    {
     "name": "stderr",
     "output_type": "stream",
     "text": [
      "Traceback (most recent call last):\n",
      "  File \"<string>\", line 1, in <module>\n",
      "  File \"/Users/benson/anaconda3/lib/python3.11/multiprocessing/spawn.py\", line 122, in spawn_main\n",
      "    exitcode = _main(fd, parent_sentinel)\n",
      "               ^^^^^^^^^^^^^^^^^^^^^^^^^^\n",
      "  File \"/Users/benson/anaconda3/lib/python3.11/multiprocessing/spawn.py\", line 132, in _main\n",
      "    self = reduction.pickle.load(from_parent)\n",
      "           ^^^^^^^^^^^^^^^^^^^^^^^^^^^^^^^^^^\n",
      "AttributeError: Can't get attribute 'greeting_with_sleep' on <module '__main__' (built-in)>\n"
     ]
    }
   ],
   "source": [
    "import time\n",
    "import multiprocessing\n",
    "\n",
    "def greeting_with_sleep(string):\n",
    "    print(string)\n",
    "    time.sleep(2)\n",
    "    print(\"says hello!\")\n",
    "\n",
    "if __name__ == \"__main__\":\n",
    "    start_time = time.perf_counter()\n",
    "    \n",
    "    # 創建多處理程序\n",
    "    p = multiprocessing.Process(target=greeting_with_sleep, args=(\"Codecademy\",))\n",
    "    p.start()  # 啟動子進程\n",
    "    p.join()   # 等待子進程結束\n",
    "\n",
    "    elapsed = time.perf_counter() - start_time\n",
    "    print(\"Multiprocessing Elapsed Time: {:.2f} seconds\".format(elapsed))\n"
   ]
  },
  {
   "cell_type": "code",
   "execution_count": 34,
   "id": "1dfd5ed3-2568-452d-b56f-2d4165469fbb",
   "metadata": {
    "tags": []
   },
   "outputs": [
    {
     "name": "stdout",
     "output_type": "stream",
     "text": [
      "Multiprocessing Elapsed Time: 0.09342962503433228 seconds\n"
     ]
    },
    {
     "name": "stderr",
     "output_type": "stream",
     "text": [
      "Traceback (most recent call last):\n",
      "  File \"<string>\", line 1, in <module>\n",
      "  File \"/Users/benson/anaconda3/lib/python3.11/multiprocessing/spawn.py\", line 122, in spawn_main\n",
      "    exitcode = _main(fd, parent_sentinel)\n",
      "               ^^^^^^^^^^^^^^^^^^^^^^^^^^\n",
      "  File \"/Users/benson/anaconda3/lib/python3.11/multiprocessing/spawn.py\", line 132, in _main\n",
      "    self = reduction.pickle.load(from_parent)\n",
      "           ^^^^^^^^^^^^^^^^^^^^^^^^^^^^^^^^^^\n",
      "AttributeError: Can't get attribute 'greeting_with_sleep' on <module '__main__' (built-in)>\n",
      "Traceback (most recent call last):\n",
      "  File \"<string>\", line 1, in <module>\n",
      "  File \"/Users/benson/anaconda3/lib/python3.11/multiprocessing/spawn.py\", line 122, in spawn_main\n",
      "    exitcode = _main(fd, parent_sentinel)\n",
      "               ^^^^^^^^^^^^^^^^^^^^^^^^^^\n",
      "  File \"/Users/benson/anaconda3/lib/python3.11/multiprocessing/spawn.py\", line 132, in _main\n",
      "    self = reduction.pickle.load(from_parent)\n",
      "           ^^^^^^^^^^^^^^^^^^^^^^^^^^^^^^^^^^\n",
      "AttributeError: Can't get attribute 'greeting_with_sleep' on <module '__main__' (built-in)>\n",
      "Traceback (most recent call last):\n",
      "  File \"<string>\", line 1, in <module>\n",
      "  File \"/Users/benson/anaconda3/lib/python3.11/multiprocessing/spawn.py\", line 122, in spawn_main\n",
      "    exitcode = _main(fd, parent_sentinel)\n",
      "               ^^^^^^^^^^^^^^^^^^^^^^^^^^\n",
      "  File \"/Users/benson/anaconda3/lib/python3.11/multiprocessing/spawn.py\", line 132, in _main\n",
      "    self = reduction.pickle.load(from_parent)\n",
      "           ^^^^^^^^^^^^^^^^^^^^^^^^^^^^^^^^^^\n",
      "AttributeError: Can't get attribute 'greeting_with_sleep' on <module '__main__' (built-in)>\n",
      "Traceback (most recent call last):\n",
      "  File \"<string>\", line 1, in <module>\n",
      "  File \"/Users/benson/anaconda3/lib/python3.11/multiprocessing/spawn.py\", line 122, in spawn_main\n",
      "    exitcode = _main(fd, parent_sentinel)\n",
      "               ^^^^^^^^^^^^^^^^^^^^^^^^^^\n",
      "  File \"/Users/benson/anaconda3/lib/python3.11/multiprocessing/spawn.py\", line 132, in _main\n",
      "    self = reduction.pickle.load(from_parent)\n",
      "           ^^^^^^^^^^^^^^^^^^^^^^^^^^^^^^^^^^\n",
      "AttributeError: Can't get attribute 'greeting_with_sleep' on <module '__main__' (built-in)>\n"
     ]
    }
   ],
   "source": [
    "import time\n",
    "import multiprocessing\n",
    "\n",
    "def greeting_with_sleep(string):\n",
    "  print(string)\n",
    "  time.sleep(2)\n",
    "  print(string + \" says hello!\")\n",
    "\n",
    "\n",
    "def main_multiprocessing():\n",
    "  s = time.perf_counter()\n",
    "  processes = []\n",
    "  greetings = ['Codecademy', 'Chelsea', 'Hisham', 'Ashley']\n",
    "  # add your code here\n",
    "  for i in range(len(greetings)):\n",
    "    p = multiprocessing.Process(target=greeting_with_sleep, args=(greetings[i],))\n",
    "    processes.append(p)\n",
    "    p.start()\n",
    "\n",
    "  for p in processes:\n",
    "    p.join()\n",
    "  \n",
    "  elapsed = time.perf_counter() - s\n",
    "  print(\"Multiprocessing Elapsed Time: \" + str(elapsed) + \" seconds\")\n",
    "\n",
    "main_multiprocessing()\n"
   ]
  },
  {
   "cell_type": "code",
   "execution_count": null,
   "id": "9f77e401-790f-45bc-b355-2a4d70aba960",
   "metadata": {},
   "outputs": [],
   "source": []
  },
  {
   "cell_type": "code",
   "execution_count": null,
   "id": "f2018d60-c36d-4ecc-a103-f620971742eb",
   "metadata": {},
   "outputs": [],
   "source": []
  },
  {
   "cell_type": "code",
   "execution_count": null,
   "id": "278229ac-9996-456e-9e65-243d7da3e251",
   "metadata": {},
   "outputs": [],
   "source": []
  },
  {
   "cell_type": "code",
   "execution_count": null,
   "id": "b2f8a2c3-b2c5-466f-9836-8e4e5248ed56",
   "metadata": {},
   "outputs": [],
   "source": []
  },
  {
   "cell_type": "code",
   "execution_count": null,
   "id": "d8685ec2-9bbc-448b-a7d3-7c2cb1ea8c57",
   "metadata": {},
   "outputs": [],
   "source": []
  }
 ],
 "metadata": {
  "kernelspec": {
   "display_name": "Python 3 (ipykernel)",
   "language": "python",
   "name": "python3"
  },
  "language_info": {
   "codemirror_mode": {
    "name": "ipython",
    "version": 3
   },
   "file_extension": ".py",
   "mimetype": "text/x-python",
   "name": "python",
   "nbconvert_exporter": "python",
   "pygments_lexer": "ipython3",
   "version": "3.11.5"
  }
 },
 "nbformat": 4,
 "nbformat_minor": 5
}
