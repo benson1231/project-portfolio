{
 "cells": [
  {
   "cell_type": "markdown",
   "id": "bc886a29-3b6d-4bdf-957c-4814637af3b7",
   "metadata": {},
   "source": [
    "# assert Statement"
   ]
  },
  {
   "cell_type": "code",
   "execution_count": 1,
   "id": "fdb45907-8236-4966-a111-a5fd81638dd2",
   "metadata": {
    "tags": []
   },
   "outputs": [
    {
     "ename": "AssertionError",
     "evalue": "Expected times_ten(20) to return 200, instead got 2000",
     "output_type": "error",
     "traceback": [
      "\u001b[1;31m---------------------------------------------------------------------------\u001b[0m",
      "\u001b[1;31mAssertionError\u001b[0m                            Traceback (most recent call last)",
      "Cell \u001b[1;32mIn[1], line 5\u001b[0m\n\u001b[0;32m      2\u001b[0m     \u001b[38;5;28;01mreturn\u001b[39;00m number \u001b[38;5;241m*\u001b[39m \u001b[38;5;241m100\u001b[39m\n\u001b[0;32m      4\u001b[0m result \u001b[38;5;241m=\u001b[39m times_ten(\u001b[38;5;241m20\u001b[39m)\n\u001b[1;32m----> 5\u001b[0m \u001b[38;5;28;01massert\u001b[39;00m result \u001b[38;5;241m==\u001b[39m \u001b[38;5;241m200\u001b[39m, \u001b[38;5;124m'\u001b[39m\u001b[38;5;124mExpected times_ten(20) to return 200, instead got \u001b[39m\u001b[38;5;124m'\u001b[39m \u001b[38;5;241m+\u001b[39m \u001b[38;5;28mstr\u001b[39m(result)\n",
      "\u001b[1;31mAssertionError\u001b[0m: Expected times_ten(20) to return 200, instead got 2000"
     ]
    }
   ],
   "source": [
    "def times_ten(number):\n",
    "    return number * 100\n",
    "\n",
    "result = times_ten(20)\n",
    "assert result == 200, 'Expected times_ten(20) to return 200, instead got ' + str(result)"
   ]
  },
  {
   "cell_type": "markdown",
   "id": "ec61c911-ac99-4e83-b38f-3e98bfbe02f0",
   "metadata": {},
   "source": [
    "# unittest"
   ]
  },
  {
   "cell_type": "code",
   "execution_count": 2,
   "id": "71bc7b01-35b1-4102-b34d-555157292bba",
   "metadata": {
    "tags": []
   },
   "outputs": [
    {
     "name": "stderr",
     "output_type": "stream",
     "text": [
      "usage: ipykernel_launcher.py [-h] [-v] [-q] [--locals] [--durations N] [-f]\n",
      "                             [-c] [-b] [-k TESTNAMEPATTERNS]\n",
      "                             [tests ...]\n",
      "ipykernel_launcher.py: error: argument -f/--failfast: ignored explicit argument 'c:\\\\Users\\\\benson_lee\\\\AppData\\\\Roaming\\\\jupyter\\\\runtime\\\\kernel-v3b28f115d9aada7369dbabd16e3611f109e4ba446.json'\n"
     ]
    },
    {
     "ename": "SystemExit",
     "evalue": "2",
     "output_type": "error",
     "traceback": [
      "An exception has occurred, use %tb to see the full traceback.\n",
      "\u001b[1;31mSystemExit\u001b[0m\u001b[1;31m:\u001b[0m 2\n"
     ]
    },
    {
     "name": "stderr",
     "output_type": "stream",
     "text": [
      "c:\\Users\\benson_lee\\anaconda3\\Lib\\site-packages\\IPython\\core\\interactiveshell.py:3585: UserWarning: To exit: use 'exit', 'quit', or Ctrl-D.\n",
      "  warn(\"To exit: use 'exit', 'quit', or Ctrl-D.\", stacklevel=1)\n"
     ]
    }
   ],
   "source": [
    "# Importing unittest framework\n",
    "import unittest\n",
    "\n",
    "# Function that gets tested\n",
    "def times_ten(number):\n",
    "    return number * 100\n",
    "\n",
    "# Test class\n",
    "class TestTimesTen(unittest.TestCase):\n",
    "    def test_multiply_ten_by_zero(self):\n",
    "        self.assertEqual(times_ten(0), 0, 'Expected times_ten(0) to return 0')\n",
    "\n",
    "    def test_multiply_ten_by_one_million(self):\n",
    "        self.assertEqual(times_ten(1000000), 10000000, 'Expected times_ten(1000000) to return 10000000')\n",
    "\n",
    "    def test_multiply_ten_by_negative_number(self):\n",
    "        self.assertEqual(times_ten(-10), -100, 'Expected add_times_ten(-10) to return -100')\n",
    "\n",
    "# Run the tests\n",
    "unittest.main()\n"
   ]
  },
  {
   "cell_type": "code",
   "execution_count": 3,
   "id": "10d1cc77-29b2-4628-82c0-b548eef7fec5",
   "metadata": {
    "tags": []
   },
   "outputs": [
    {
     "name": "stderr",
     "output_type": "stream",
     "text": [
      "usage: ipykernel_launcher.py [-h] [-v] [-q] [--locals] [-f] [-c] [-b]\n",
      "                             [-k TESTNAMEPATTERNS]\n",
      "                             [tests ...]\n",
      "ipykernel_launcher.py: error: argument -f/--failfast: ignored explicit argument '/Users/benson/Library/Jupyter/runtime/kernel-v3686e0905938ec5de40b8d9b62db4469f5d98f2d9.json'\n"
     ]
    },
    {
     "ename": "SystemExit",
     "evalue": "2",
     "output_type": "error",
     "traceback": [
      "An exception has occurred, use %tb to see the full traceback.\n",
      "\u001b[0;31mSystemExit\u001b[0m\u001b[0;31m:\u001b[0m 2\n"
     ]
    }
   ],
   "source": [
    "import unittest\n",
    "\n",
    "class TestSampleMethods(unittest.TestCase):\n",
    "    def test_assert_methods(self):\n",
    "        # assertEqual 測試是否兩個值相等\n",
    "        # 這裡故意測試失敗，2 不等於 5\n",
    "        self.assertEqual(2, 5, \"2 與 5 不相等，測試失敗\")\n",
    "        \n",
    "        # assertIn 測試值是否在序列中\n",
    "        # 這裡故意測試失敗，5 不在 [1, 2, 3] 中\n",
    "        self.assertIn(5, [1, 2, 3], \"5 不在序列 [1, 2, 3] 中，測試失敗\")\n",
    "        \n",
    "        # assertTrue 測試條件是否為 True\n",
    "        # 這裡故意測試失敗，0 被視為 False\n",
    "        self.assertTrue(0, \"條件不為 True，測試失敗\")\n",
    "        \n",
    "        # assertLess 測試第一個值是否小於第二個值\n",
    "        self.assertLess(2, 5, \"2 應小於 5，但測試失敗\")\n",
    "\n",
    "        # assertAlmostEqual 測試兩個數值是否近似相等（預設小數點後 7 位）\n",
    "        # 測試 .22 與 .225，允許小數點後相差幾位\n",
    "        self.assertAlmostEqual(0.22, 0.225, places=2, msg=\"0.22 與 0.225 的近似測試失敗\")\n",
    "    \n",
    "        \n",
    "if __name__ == \"__main__\":\n",
    "    unittest.main()"
   ]
  },
  {
   "cell_type": "code",
   "execution_count": null,
   "id": "37c5143f-8d00-4878-8dc8-8375e953011c",
   "metadata": {
    "tags": []
   },
   "outputs": [],
   "source": [
    "class TestSampleMethods(unittest.TestCase):\n",
    "    def test_assert_raises(self):\n",
    "        # assertRaises 測試是否正確拋出指定的異常\n",
    "   # 測試 assertRaises\n",
    "        self.assertRaises(ZeroDivisionError, divide, 10, 0)\n",
    "\n",
    "    # 測試 assertWarns\n",
    "        self.assertWarns(DeprecationWarning, deprecated_function)\n",
    "        \n",
    "test_assert_raises()"
   ]
  },
  {
   "cell_type": "markdown",
   "id": "455156f5-3fbe-4c28-b984-aa2c173f8edc",
   "metadata": {},
   "source": [
    "# Parameterizing Tests"
   ]
  },
  {
   "cell_type": "code",
   "execution_count": null,
   "id": "3b1df7ad-58e6-47a1-be73-d806fbbd31c6",
   "metadata": {
    "tags": []
   },
   "outputs": [],
   "source": [
    "import unittest\n",
    "import entertainment\n",
    "\n",
    "class EntertainmentSystemTests(unittest.TestCase):\n",
    "\n",
    "  def test_movie_license(self):\n",
    "    # Checkpoint 1\n",
    "    daily_movies = entertainment.get_daily_movies()\n",
    "    licensed_movies = entertainment.get_licensed_movies()\n",
    "\n",
    "    # Checkpoint 2\n",
    "    for movie in daily_movies:\n",
    "      print(movie)\n",
    "      # Checkpoint 3 & 4\n",
    "      with self.subTest(movie):\n",
    "        self.assertIn(movie, licensed_movies)\n",
    "\n",
    "\n",
    "unittest.main()"
   ]
  },
  {
   "cell_type": "markdown",
   "id": "b88b2cb3-b932-44be-a9bb-2a113228b435",
   "metadata": {},
   "source": [
    "# Test Fixtures"
   ]
  },
  {
   "cell_type": "code",
   "execution_count": null,
   "id": "3af4af0d-7101-482b-ac91-c28536e71419",
   "metadata": {
    "tags": []
   },
   "outputs": [],
   "source": [
    "def power_cycle_device():\n",
    "    print('Power cycling bluetooth device...')\n",
    "\n",
    "class BluetoothDeviceTests(unittest.TestCase):\n",
    "  @classmethod\n",
    "  def setUpClass(cls):\n",
    "    power_cycle_device()\n",
    "\n",
    "  def test_feature_a(self):\n",
    "    print('Testing Feature A')\n",
    "\n",
    "  def test_feature_b(self):\n",
    "    print('Testing Feature B')\n",
    "\n",
    "  @classmethod\n",
    "  def tearDownClass(cls):\n",
    "    power_cycle_device()\n"
   ]
  },
  {
   "cell_type": "markdown",
   "id": "08587bd2-f3db-4279-9f27-b4912e04d666",
   "metadata": {},
   "source": [
    "# Skipping tests\n",
    "1. @unittest \n",
    "2. skipTest()"
   ]
  },
  {
   "cell_type": "code",
   "execution_count": 4,
   "id": "3cb5aa88-fd5f-4495-a75a-485de644e2ca",
   "metadata": {
    "tags": []
   },
   "outputs": [
    {
     "name": "stderr",
     "output_type": "stream",
     "text": [
      "E\n",
      "======================================================================\n",
      "ERROR: /Users/benson/Library/Jupyter/runtime/kernel-17f54d10-2517-443f-aeaa-08eb11fdcd8e (unittest.loader._FailedTest./Users/benson/Library/Jupyter/runtime/kernel-17f54d10-2517-443f-aeaa-08eb11fdcd8e)\n",
      "----------------------------------------------------------------------\n",
      "AttributeError: module '__main__' has no attribute '/Users/benson/Library/Jupyter/runtime/kernel-17f54d10-2517-443f-aeaa-08eb11fdcd8e'\n",
      "\n",
      "----------------------------------------------------------------------\n",
      "Ran 1 test in 0.001s\n",
      "\n",
      "FAILED (errors=1)\n"
     ]
    },
    {
     "ename": "SystemExit",
     "evalue": "True",
     "output_type": "error",
     "traceback": [
      "An exception has occurred, use %tb to see the full traceback.\n",
      "\u001b[0;31mSystemExit\u001b[0m\u001b[0;31m:\u001b[0m True\n"
     ]
    },
    {
     "name": "stderr",
     "output_type": "stream",
     "text": [
      "/Users/benson/anaconda3/lib/python3.11/site-packages/IPython/core/interactiveshell.py:3585: UserWarning: To exit: use 'exit', 'quit', or Ctrl-D.\n",
      "  warn(\"To exit: use 'exit', 'quit', or Ctrl-D.\", stacklevel=1)\n"
     ]
    }
   ],
   "source": [
    "import sys\n",
    "\n",
    "class LinuxTests(unittest.TestCase):\n",
    "\n",
    "    @unittest.skipUnless(sys.platform.startswith(\"linux\"), \"This test only runs on Linux\")\n",
    "    def test_linux_feature(self):\n",
    "        print(\"This test should only run on Linux\")\n",
    "\n",
    "    @unittest.skipIf(not sys.platform.startswith(\"linux\"), \"This test only runs on Linux\")\n",
    "    def test_other_linux_feature(self):\n",
    "        print(\"This test should only run on Linux\")\n",
    "\n",
    "unittest.main()"
   ]
  },
  {
   "cell_type": "code",
   "execution_count": 5,
   "id": "52cf79bf-b09c-49c8-982d-be77827b6fc7",
   "metadata": {
    "tags": []
   },
   "outputs": [
    {
     "ename": "AttributeError",
     "evalue": "module 'entertainment' has no attribute 'regional_jet'",
     "output_type": "error",
     "traceback": [
      "\u001b[0;31m---------------------------------------------------------------------------\u001b[0m",
      "\u001b[0;31mAttributeError\u001b[0m                            Traceback (most recent call last)",
      "Cell \u001b[0;32mIn[5], line 4\u001b[0m\n\u001b[1;32m      1\u001b[0m \u001b[38;5;28;01mimport\u001b[39;00m \u001b[38;5;21;01munittest\u001b[39;00m\n\u001b[1;32m      2\u001b[0m \u001b[38;5;28;01mimport\u001b[39;00m \u001b[38;5;21;01mentertainment\u001b[39;00m\n\u001b[0;32m----> 4\u001b[0m \u001b[38;5;28;01mclass\u001b[39;00m \u001b[38;5;21;01mEntertainmentSystemTests\u001b[39;00m(unittest\u001b[38;5;241m.\u001b[39mTestCase):\n\u001b[1;32m      5\u001b[0m   \u001b[38;5;66;03m# Checkpoint 1\u001b[39;00m\n\u001b[1;32m      6\u001b[0m   \u001b[38;5;129m@unittest\u001b[39m\u001b[38;5;241m.\u001b[39mskipIf(entertainment\u001b[38;5;241m.\u001b[39mregional_jet(), \u001b[38;5;124m'\u001b[39m\u001b[38;5;124mNot available on regional jets\u001b[39m\u001b[38;5;124m'\u001b[39m)\n\u001b[1;32m      7\u001b[0m   \u001b[38;5;28;01mdef\u001b[39;00m \u001b[38;5;21mtest_movie_license\u001b[39m(\u001b[38;5;28mself\u001b[39m):\n\u001b[1;32m      8\u001b[0m     daily_movie \u001b[38;5;241m=\u001b[39m entertainment\u001b[38;5;241m.\u001b[39mget_daily_movie()\n",
      "Cell \u001b[0;32mIn[5], line 6\u001b[0m, in \u001b[0;36mEntertainmentSystemTests\u001b[0;34m()\u001b[0m\n\u001b[1;32m      4\u001b[0m \u001b[38;5;28;01mclass\u001b[39;00m \u001b[38;5;21;01mEntertainmentSystemTests\u001b[39;00m(unittest\u001b[38;5;241m.\u001b[39mTestCase):\n\u001b[1;32m      5\u001b[0m   \u001b[38;5;66;03m# Checkpoint 1\u001b[39;00m\n\u001b[0;32m----> 6\u001b[0m   \u001b[38;5;129m@unittest\u001b[39m\u001b[38;5;241m.\u001b[39mskipIf(entertainment\u001b[38;5;241m.\u001b[39mregional_jet(), \u001b[38;5;124m'\u001b[39m\u001b[38;5;124mNot available on regional jets\u001b[39m\u001b[38;5;124m'\u001b[39m)\n\u001b[1;32m      7\u001b[0m   \u001b[38;5;28;01mdef\u001b[39;00m \u001b[38;5;21mtest_movie_license\u001b[39m(\u001b[38;5;28mself\u001b[39m):\n\u001b[1;32m      8\u001b[0m     daily_movie \u001b[38;5;241m=\u001b[39m entertainment\u001b[38;5;241m.\u001b[39mget_daily_movie()\n\u001b[1;32m      9\u001b[0m     licensed_movies \u001b[38;5;241m=\u001b[39m entertainment\u001b[38;5;241m.\u001b[39mget_licensed_movies()\n",
      "\u001b[0;31mAttributeError\u001b[0m: module 'entertainment' has no attribute 'regional_jet'"
     ]
    }
   ],
   "source": [
    "import unittest\n",
    "import entertainment\n",
    "\n",
    "class EntertainmentSystemTests(unittest.TestCase):\n",
    "  # Checkpoint 1\n",
    "  @unittest.skipIf(entertainment.regional_jet(), 'Not available on regional jets')\n",
    "  def test_movie_license(self):\n",
    "    daily_movie = entertainment.get_daily_movie()\n",
    "    licensed_movies = entertainment.get_licensed_movies()\n",
    "    self.assertIn(daily_movie, licensed_movies)\n",
    "\n",
    "  # Checkpoint 2\n",
    "  @unittest.skipUnless(entertainment.regional_jet() is False, 'Not available on regional jets')\n",
    "  def test_wifi_status(self):\n",
    "    wifi_enabled = entertainment.get_wifi_status()\n",
    "    self.assertTrue(wifi_enabled)\n",
    "\n",
    "  # Checkpoint 3\n",
    "  def test_device_temperature(self):\n",
    "    if entertainment.regional_jet():\n",
    "      self.skipTest('Not available on regional jets')\n",
    "    device_temp = entertainment.get_device_temp()\n",
    "    self.assertLess(device_temp, 35)\n",
    "\n",
    "  # Checkpoint 3\n",
    "  def test_maximum_display_brightness(self):\n",
    "    if entertainment.regional_jet():\n",
    "      self.skipTest('Not available on regional jets')\n",
    "    brightness = entertainment.get_maximum_display_brightness()\n",
    "    self.assertAlmostEqual(brightness, 400)\n",
    "\n",
    "\n",
    "unittest.main()\n"
   ]
  },
  {
   "cell_type": "code",
   "execution_count": null,
   "id": "8907ca52-88cb-4a97-af1c-a6c6dd906345",
   "metadata": {},
   "outputs": [],
   "source": [
    "# Expected Failures\n",
    "class FeatureTests(unittest.TestCase):\n",
    "\n",
    "    @unittest.expectedFailure\n",
    "    def test_broken_feature(self):\n",
    "        raise Exception(\"This test is going to fail\")\n"
   ]
  }
 ],
 "metadata": {
  "kernelspec": {
   "display_name": "base",
   "language": "python",
   "name": "python3"
  },
  "language_info": {
   "codemirror_mode": {
    "name": "ipython",
    "version": 3
   },
   "file_extension": ".py",
   "mimetype": "text/x-python",
   "name": "python",
   "nbconvert_exporter": "python",
   "pygments_lexer": "ipython3",
   "version": "3.12.7"
  }
 },
 "nbformat": 4,
 "nbformat_minor": 5
}
