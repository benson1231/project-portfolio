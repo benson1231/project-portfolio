{
 "cells": [
  {
   "cell_type": "markdown",
   "id": "bf310e77-7e9a-4026-b481-fc70fadc1dca",
   "metadata": {
    "tags": []
   },
   "source": [
    "# Lambda"
   ]
  },
  {
   "cell_type": "code",
   "execution_count": 1,
   "id": "da821ce4-0248-4a74-9e02-cc84003a2f67",
   "metadata": {
    "tags": []
   },
   "outputs": [
    {
     "name": "stdout",
     "output_type": "stream",
     "text": [
      "8\n"
     ]
    }
   ],
   "source": [
    "# 使用 lambda 定義一個加法函數\n",
    "add = lambda x, y: x + y\n",
    "print(add(3, 5))  # 輸出: 8"
   ]
  },
  {
   "cell_type": "code",
   "execution_count": 2,
   "id": "805a17da-524e-47d5-a4a1-68868ad222d1",
   "metadata": {
    "tags": []
   },
   "outputs": [
    {
     "name": "stdout",
     "output_type": "stream",
     "text": [
      "75\n",
      "84.0\n"
     ]
    }
   ],
   "source": [
    "# ppsm: price per square meter\n",
    "# dim: dimensions tuple\n",
    "def total_cost(ppsm, dim, area):\n",
    " return ppsm * area(dim[0], dim[1])\n",
    "\n",
    "print(total_cost(3, (5, 5), lambda b, h: b*h)) # Rectangular sheet costing 75 units\n",
    "print(total_cost(4, (6, 7), lambda b, h: 0.5 * b*h)) # Triangular sheet costing 84 units"
   ]
  },
  {
   "cell_type": "code",
   "execution_count": 3,
   "id": "cf36d8e6-b904-4b46-9a6c-795ee1ac114f",
   "metadata": {
    "tags": []
   },
   "outputs": [
    {
     "name": "stdout",
     "output_type": "stream",
     "text": [
      "25\n"
     ]
    }
   ],
   "source": [
    "\"\"\" \n",
    "def squared(x):\n",
    "  return x * x\n",
    "\n",
    "def cubed(x):\n",
    "  return x*x*x\n",
    "\"\"\"\n",
    "def odd_or_even(n, even_function, odd_function):\n",
    "  if n % 2 == 0:\n",
    "    return even_function(n)\n",
    "  else: \n",
    "    return odd_function(n) \n",
    "\n",
    "square = lambda x: x*x\n",
    "cube = lambda x: x*x*x\n",
    "\n",
    "test  = odd_or_even(5, cube, square)\n",
    "\n",
    "print(test)"
   ]
  },
  {
   "cell_type": "markdown",
   "id": "739255b8-393a-4511-bb7c-ee83477dfd58",
   "metadata": {},
   "source": [
    "# map()、filter() and reduce()這三個函數是 Python 中常見的高階函數，主要用來對可迭代物件進行處理，提升程式的簡潔性和可讀性。"
   ]
  },
  {
   "cell_type": "code",
   "execution_count": 4,
   "id": "2e130eff-18b2-48ff-9fbc-7b82b9350412",
   "metadata": {
    "tags": []
   },
   "outputs": [
    {
     "name": "stdout",
     "output_type": "stream",
     "text": [
      "[1, 4, 9, 16]\n"
     ]
    }
   ],
   "source": [
    "nums = [1, 2, 3, 4]\n",
    "# 每個元素平方\n",
    "squared = map(lambda x: x ** 2, nums)\n",
    "print(list(squared))  # 輸出: [1, 4, 9, 16]"
   ]
  },
  {
   "cell_type": "code",
   "execution_count": 5,
   "id": "5c26f1e0-ab33-4a7c-9977-9881eaf51ebe",
   "metadata": {
    "tags": []
   },
   "outputs": [
    {
     "name": "stdout",
     "output_type": "stream",
     "text": [
      "[2, 4, 6]\n"
     ]
    }
   ],
   "source": [
    "nums = [1, 2, 3, 4, 5, 6]\n",
    "# 篩選偶數\n",
    "evens = filter(lambda x: x % 2 == 0, nums)\n",
    "print(list(evens))  # 輸出: [2, 4, 6]"
   ]
  },
  {
   "cell_type": "code",
   "execution_count": 6,
   "id": "1cfd1e4d-93fe-4583-87d5-f6dc2a38efb0",
   "metadata": {
    "tags": []
   },
   "outputs": [
    {
     "name": "stdout",
     "output_type": "stream",
     "text": [
      "10\n"
     ]
    }
   ],
   "source": [
    "from functools import reduce\n",
    "\n",
    "nums = [1, 2, 3, 4]\n",
    "# 計算所有元素的總和\n",
    "total = reduce(lambda x, y: x + y, nums)\n",
    "print(total)  # 輸出: 10"
   ]
  },
  {
   "cell_type": "code",
   "execution_count": 7,
   "id": "fd55d609-be73-449a-b095-9f175cb8dde4",
   "metadata": {
    "tags": []
   },
   "outputs": [
    {
     "name": "stdout",
     "output_type": "stream",
     "text": [
      "(24, 32, 26, 38, 42, 30, 44, 40, 22)\n",
      "(36, 27, 9, 63, 45)\n"
     ]
    }
   ],
   "source": [
    "nums = (2, 12, 5, 8, 9, 3, 16, 7, 13, 19, 21, 1, 15, 4, 22, 20, 11)\n",
    "\n",
    "# Checkpoint 1 code goes here.\n",
    "greater_than_10_doubled = map(lambda x: x*2, filter(lambda y: y > 10, nums))\n",
    "\n",
    "print(tuple(greater_than_10_doubled))\n",
    "\n",
    "# Checkpoint 2 code goes here.\n",
    "functional_way = map(lambda x: x * 3, filter(lambda y: y % 3 == 0, nums))\n",
    "\n",
    "print(tuple(functional_way))"
   ]
  },
  {
   "cell_type": "code",
   "execution_count": 8,
   "id": "92a3a268-dbdd-42f4-9f9c-22fc6b9fcf33",
   "metadata": {
    "tags": []
   },
   "outputs": [
    {
     "name": "stdout",
     "output_type": "stream",
     "text": [
      "8\n"
     ]
    }
   ],
   "source": [
    "nums = [3, 5, 2, 8, 1]\n",
    "max_val = reduce(lambda a, b: a if a > b else b, nums)\n",
    "print(max_val)  # 輸出: 8"
   ]
  },
  {
   "cell_type": "code",
   "execution_count": 9,
   "id": "53856ca6-efc6-455e-926c-3598d1e6c934",
   "metadata": {
    "tags": []
   },
   "outputs": [
    {
     "name": "stdout",
     "output_type": "stream",
     "text": [
      "264.0\n"
     ]
    }
   ],
   "source": [
    "from functools import reduce\n",
    "\n",
    "# Dictionary entry: {\"name: (number_or_units_sold, price_per_unit_GBP)}\n",
    "\n",
    "costs = {\"shirt\": (4, 13.00), \"shoes\":(2, 80.00), \"pants\":(3, 100.00), \"socks\":(5, 5.00), \"ties\":(3, 14.00), \"watch\":(1, 145.00)}\n",
    "\n",
    "k = reduce(lambda x, y: x + y, filter(lambda r: r <= 150.00, map(lambda q: costs[q][0] * costs[q][1], costs)))\n",
    "\n",
    "print(k) # Output will be a total cost of: 264.0 GBP"
   ]
  }
 ],
 "metadata": {
  "kernelspec": {
   "display_name": "base",
   "language": "python",
   "name": "python3"
  },
  "language_info": {
   "codemirror_mode": {
    "name": "ipython",
    "version": 3
   },
   "file_extension": ".py",
   "mimetype": "text/x-python",
   "name": "python",
   "nbconvert_exporter": "python",
   "pygments_lexer": "ipython3",
   "version": "3.12.7"
  }
 },
 "nbformat": 4,
 "nbformat_minor": 5
}
