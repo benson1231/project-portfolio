{
 "cells": [
  {
   "cell_type": "markdown",
   "id": "ea625e21-ac7b-4de2-83fd-6df15ea806c6",
   "metadata": {},
   "source": [
    "# Dictionary"
   ]
  },
  {
   "cell_type": "code",
   "execution_count": 6,
   "id": "781d95da-f1ac-4282-b9c3-59e5031c920f",
   "metadata": {
    "tags": []
   },
   "outputs": [
    {
     "name": "stdout",
     "output_type": "stream",
     "text": [
      "Alice\n",
      "25\n",
      "{'name': 'Alice', 'age': 30, 'city': 'New York', 'job': 'Engineer'}\n",
      "{'name': 'Alice', 'age': 30, 'job': 'Engineer'}\n",
      "Name is in the dictionary.\n"
     ]
    }
   ],
   "source": [
    "# 建立字典\n",
    "person = {\"name\": \"Alice\", \"age\": 25, \"city\": \"New York\"}\n",
    "\n",
    "# 訪問值\n",
    "print(person[\"name\"])  # 輸出: Alice\n",
    "print(person[\"age\"])   # 輸出: 25\n",
    "\n",
    "# 添加/更新鍵值對\n",
    "person[\"job\"] = \"Engineer\"  # 添加新鍵值\n",
    "person[\"age\"] = 30          # 更新現有鍵值\n",
    "print(person)  # 輸出: {'name': 'Alice', 'age': 30, 'city': 'New York', 'job': 'Engineer'}\n",
    "\n",
    "# 刪除鍵值對\n",
    "del person[\"city\"]           # 刪除指定鍵\n",
    "print(person)  # 輸出: {'name': 'Alice', 'age': 30, 'job': 'Engineer'}\n",
    "\n",
    "# 檢查鍵是否存在\n",
    "if \"name\" in person:\n",
    "    print(\"Name is in the dictionary.\")  # 輸出: Name is in the dictionary."
   ]
  },
  {
   "cell_type": "code",
   "execution_count": 9,
   "id": "5c5fa713-4159-4fc4-9969-4825f12fcc4c",
   "metadata": {
    "tags": []
   },
   "outputs": [
    {
     "name": "stdout",
     "output_type": "stream",
     "text": [
      "dict_keys(['name', 'age', 'job'])\n",
      "dict_values(['Alice', 30, 'Engineer'])\n",
      "name: Alice\n",
      "age: 30\n",
      "job: Engineer\n"
     ]
    }
   ],
   "source": [
    "# key, value\n",
    "print(person.keys())\n",
    "print(person.values())\n",
    "# 遍歷字典\n",
    "for key, value in person.items():\n",
    "    print(f\"{key}: {value}\")"
   ]
  },
  {
   "cell_type": "markdown",
   "id": "4ad9b7e9-a093-4d28-92d9-50cf9e83bd6b",
   "metadata": {},
   "source": [
    "# File"
   ]
  },
  {
   "cell_type": "code",
   "execution_count": 16,
   "id": "1a0e0f8f-51ac-41dd-9564-aa682fa70ff1",
   "metadata": {
    "tags": []
   },
   "outputs": [
    {
     "name": "stdout",
     "output_type": "stream",
     "text": [
      "   age  weight  height  car_number  get_PHD\n",
      "0    9       3      38          21        9\n",
      "1   72      73      23          52       18\n",
      "2   41      92      49          84       45\n",
      "3   86      74      78          53       17\n",
      "4   36      13      35          12       93\n"
     ]
    }
   ],
   "source": [
    "import pandas as pd\n",
    "\n",
    "with open(\"./demo/test.csv\") as text_file:\n",
    "  text_data = pd.read_csv(text_file)\n",
    "  print(text_data.head())"
   ]
  },
  {
   "cell_type": "code",
   "execution_count": null,
   "id": "b400805b-9cb9-4c90-a270-ea436d1d1450",
   "metadata": {},
   "outputs": [],
   "source": []
  },
  {
   "cell_type": "code",
   "execution_count": null,
   "id": "7660296a-b83a-430d-8474-52d042fb67bf",
   "metadata": {},
   "outputs": [],
   "source": []
  },
  {
   "cell_type": "code",
   "execution_count": null,
   "id": "eca4ac9d-09d8-481b-9a5a-a3f1fb1ccf8f",
   "metadata": {},
   "outputs": [],
   "source": []
  },
  {
   "cell_type": "code",
   "execution_count": null,
   "id": "8f5ee12d-0145-4528-8ab4-64a6465d6076",
   "metadata": {},
   "outputs": [],
   "source": []
  },
  {
   "cell_type": "code",
   "execution_count": null,
   "id": "17e5e63e-f3b7-413c-857e-f0475d67577e",
   "metadata": {},
   "outputs": [],
   "source": []
  },
  {
   "cell_type": "code",
   "execution_count": null,
   "id": "1797c563-4fdb-4b75-bb0a-ff9e2a4be543",
   "metadata": {},
   "outputs": [],
   "source": []
  },
  {
   "cell_type": "code",
   "execution_count": null,
   "id": "82e7e9ca-b2fa-40e1-bbba-892f6c959917",
   "metadata": {},
   "outputs": [],
   "source": []
  },
  {
   "cell_type": "code",
   "execution_count": null,
   "id": "516b4f6d-827f-4e85-a45d-15105ef86e75",
   "metadata": {},
   "outputs": [],
   "source": []
  }
 ],
 "metadata": {
  "kernelspec": {
   "display_name": "Python 3 (ipykernel)",
   "language": "python",
   "name": "python3"
  },
  "language_info": {
   "codemirror_mode": {
    "name": "ipython",
    "version": 3
   },
   "file_extension": ".py",
   "mimetype": "text/x-python",
   "name": "python",
   "nbconvert_exporter": "python",
   "pygments_lexer": "ipython3",
   "version": "3.11.5"
  }
 },
 "nbformat": 4,
 "nbformat_minor": 5
}
