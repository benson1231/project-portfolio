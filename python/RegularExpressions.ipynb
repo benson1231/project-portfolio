{
 "cells": [
  {
   "cell_type": "markdown",
   "id": "65f1a4ac-041f-479e-b94c-e7b80f020b9f",
   "metadata": {
    "tags": []
   },
   "source": [
    "# 正規表示式（Regular Expressions）筆記\n",
    "\n",
    "[參考codecademy](https://www.codecademy.com/resources/docs/general/regular-expressions)  \n",
    "正規表示式是一種用來描述要匹配的文字模式的特殊字元序列，以下是其主要組成和用途：\n",
    "\n",
    "## 基本概念\n",
    "\n",
    "1. **文字匹配**  \n",
    "   - 可以直接使用文字匹配確切的字符。\n",
    "   - 範例：`cat` 會匹配 \"cat\"。\n",
    "\n",
    "2. **交替符號（|）**  \n",
    "   - 使用管道符號`|`允許匹配前面或後面的文字。  \n",
    "   - 範例：`cat|dog` 會匹配 \"cat\" 或 \"dog\"。\n",
    "\n",
    "3. **字元集（[]）**  \n",
    "   - 一對方括號內的字符，允許從一系列字元中匹配一個。  \n",
    "   - 範例：`[aeiou]` 會匹配任一母音。\n",
    "\n",
    "4. **通配符（.）**  \n",
    "   - 使用點`.`匹配任何單個字元（字母、數字、符號或空格）。  \n",
    "   - 範例：`c.t` 會匹配 \"cat\", \"cut\", \"c3t\"。\n",
    "\n",
    "5. **範圍**  \n",
    "   - 使用範圍指定可匹配的字元範圍。  \n",
    "   - 範例：`[a-z]` 匹配所有小寫字母，`[0-9]` 匹配所有數字。\n",
    "\n",
    "## 進階功能\n",
    "\n",
    "1. **速記字元類**  \n",
    "   - `\\w`：單字字元（字母、數字和底線）。  \n",
    "   - `\\d`：數字字元。  \n",
    "   - `\\s`：空白字元（空格、換行符號等）。\n",
    "\n",
    "2. **分組（()）**  \n",
    "   - 用括號分組正規表示式的一部分。  \n",
    "   - 範例：`(ab|cd)e` 會匹配 \"abe\" 或 \"cde\"。\n",
    "\n",
    "3. **固定量詞（{}）**  \n",
    "   - 指定希望匹配的字符數量或範圍。  \n",
    "   - 範例：`a{3}` 匹配 \"aaa\"，`a{2,4}` 匹配 \"aa\", \"aaa\", 或 \"aaaa\"。\n",
    "\n",
    "4. **可選量詞（?）**  \n",
    "   - 表示字符是可選的，可出現 0 或 1 次。  \n",
    "   - 範例：`colou?r` 匹配 \"color\" 或 \"colour\"。\n",
    "\n",
    "5. **Kleene 星號（*）**  \n",
    "   - 匹配前面的字符 0 次或多次。  \n",
    "   - 範例：`ba*` 匹配 \"b\", \"ba\", \"baa\", \"baaa\"。\n",
    "\n",
    "6. **Kleene 加號（+）**  \n",
    "   - 匹配前面的字符 1 次或多次。  \n",
    "   - 範例：`ba+` 匹配 \"ba\", \"baa\", \"baaa\"。\n",
    "\n",
    "7. **錨符號**  \n",
    "   - `^`：匹配開頭的文本。  \n",
    "   - `$`：匹配結尾的文本。  \n",
    "   - 範例：`^Hello` 匹配 \"Hello\" 的開頭，`world$` 匹配 \"world\" 的結尾。\n"
   ]
  }
 ],
 "metadata": {
  "kernelspec": {
   "display_name": "Python 3 (ipykernel)",
   "language": "python",
   "name": "python3"
  },
  "language_info": {
   "codemirror_mode": {
    "name": "ipython",
    "version": 3
   },
   "file_extension": ".py",
   "mimetype": "text/x-python",
   "name": "python",
   "nbconvert_exporter": "python",
   "pygments_lexer": "ipython3",
   "version": "3.12.7"
  }
 },
 "nbformat": 4,
 "nbformat_minor": 5
}
