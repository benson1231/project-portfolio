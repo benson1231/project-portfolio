{
 "cells": [
  {
   "cell_type": "markdown",
   "id": "fbb66650-f2e3-4c4d-940f-26253a244fed",
   "metadata": {},
   "source": [
    "# Numpy command"
   ]
  },
  {
   "cell_type": "code",
   "execution_count": 1,
   "id": "a25ecf31-c45f-4b3c-b60d-082a753f70a0",
   "metadata": {},
   "outputs": [
    {
     "name": "stdout",
     "output_type": "stream",
     "text": [
      "[ 3  4 -5]\n",
      "3\n",
      "int64\n"
     ]
    }
   ],
   "source": [
    "# import numpy\n",
    "import numpy as np\n",
    "# 建立ndarray物件\n",
    "ndarr = np.array([3, 4, -5])\n",
    "\n",
    "print(ndarr)\n",
    "print(ndarr.size)\n",
    "print(ndarr.dtype)"
   ]
  },
  {
   "cell_type": "markdown",
   "id": "64bb2eb0-6c33-4b7f-9171-f175487ee7f9",
   "metadata": {},
   "source": [
    "# 建立一維陣列"
   ]
  },
  {
   "cell_type": "code",
   "execution_count": 2,
   "id": "c1c91ade-3ca6-475f-b64f-ed3a382265d9",
   "metadata": {},
   "outputs": [
    {
     "data": {
      "text/plain": [
       "array([0, 1, 2, 3, 4, 5, 6, 7, 8, 9])"
      ]
     },
     "execution_count": 2,
     "metadata": {},
     "output_type": "execute_result"
    }
   ],
   "source": [
    "np.array([3,4,5])\n",
    "np.empty(3)\n",
    "np.zeros(3)\n",
    "np.ones(3)\n",
    "np.arange(10)"
   ]
  },
  {
   "cell_type": "markdown",
   "id": "2804079a-7f24-4df8-a8e9-f5d8c04e66c8",
   "metadata": {},
   "source": [
    "# 建立二維陣列"
   ]
  },
  {
   "cell_type": "code",
   "execution_count": 3,
   "id": "cecc2c45-2c2f-44e5-b2ea-0a2dbdc7935f",
   "metadata": {},
   "outputs": [
    {
     "data": {
      "text/plain": [
       "array([[1, 2],\n",
       "       [3, 4],\n",
       "       [5, 6]])"
      ]
     },
     "execution_count": 3,
     "metadata": {},
     "output_type": "execute_result"
    }
   ],
   "source": [
    "np.array(\n",
    "    [\n",
    "        [1,2],\n",
    "        [3,4],\n",
    "        [5,6]\n",
    "    ]\n",
    "        )"
   ]
  },
  {
   "cell_type": "markdown",
   "id": "97ea22df-794f-4492-b8f7-57e5e0197a3a",
   "metadata": {},
   "source": [
    "# 建立三維陣列"
   ]
  },
  {
   "cell_type": "code",
   "execution_count": 4,
   "id": "830ff08b-fdd2-4a87-8a99-107c6b4da03e",
   "metadata": {},
   "outputs": [
    {
     "name": "stdout",
     "output_type": "stream",
     "text": [
      "[[[ 1  2  3  4]\n",
      "  [ 5  6  7  8]\n",
      "  [ 9 10 11 12]]\n",
      "\n",
      " [[13 14 15 16]\n",
      "  [17 18 19 20]\n",
      "  [21 22 23 24]]]\n"
     ]
    }
   ],
   "source": [
    "array_3d = np.array([[[1, 2, 3, 4], \n",
    "                      [5, 6, 7, 8], \n",
    "                      [9, 10, 11, 12]],\n",
    "                     \n",
    "                     [[13, 14, 15, 16], \n",
    "                      [17, 18, 19, 20], \n",
    "                      [21, 22, 23, 24]]])\n",
    "print(array_3d)"
   ]
  },
  {
   "cell_type": "markdown",
   "id": "418855cb-97af-4ba5-a767-0cf9df9c4457",
   "metadata": {},
   "source": [
    "# 建立多維陣列"
   ]
  },
  {
   "cell_type": "code",
   "execution_count": 5,
   "id": "1ea2bf9b-2739-4910-b3ea-870e3097b725",
   "metadata": {},
   "outputs": [],
   "source": [
    "# 創建一個四維陣列，形狀為 1x1x1x2\n",
    "array_4d = np.array([[[[1, 2]]]])"
   ]
  },
  {
   "cell_type": "markdown",
   "id": "dd14de8d-1b52-467d-a519-7ec3a1d04b28",
   "metadata": {},
   "source": [
    "# 逐元運算"
   ]
  },
  {
   "cell_type": "code",
   "execution_count": 6,
   "id": "811bcd27-294f-4293-a6b9-804beab0e38a",
   "metadata": {
    "tags": []
   },
   "outputs": [
    {
     "data": {
      "text/plain": [
       "array([ True,  True])"
      ]
     },
     "execution_count": 6,
     "metadata": {},
     "output_type": "execute_result"
    }
   ],
   "source": [
    "data1 = np.array([3,4])\n",
    "data2 = np.array([5,8])\n",
    "\n",
    "data1 + data2\n",
    "data1 - data2\n",
    "data1 * data2\n",
    "data1 / data2\n",
    "data1 > data2\n",
    "data1 == data2\n",
    "data1 <= data2"
   ]
  },
  {
   "cell_type": "markdown",
   "id": "ef25808f-9b04-48ef-b6ae-a6ee31724a0f",
   "metadata": {},
   "source": [
    "# 矩陣運算"
   ]
  },
  {
   "cell_type": "code",
   "execution_count": 7,
   "id": "18912899-e024-479a-8edb-8b85b22c0e16",
   "metadata": {
    "tags": []
   },
   "outputs": [
    {
     "data": {
      "text/plain": [
       "array([[ 8, 14, 16,  6, 10, 14],\n",
       "       [ 4,  7,  8,  3,  5,  7]])"
      ]
     },
     "execution_count": 7,
     "metadata": {},
     "output_type": "execute_result"
    }
   ],
   "source": [
    "data3 = np.array([\n",
    "    [2,1]\n",
    "])\n",
    "data4 = np.array([\n",
    "    [4,7,8],[3,5,7]\n",
    "])\n",
    "\n",
    "data3.dot(data4)  # 內積\n",
    "data3@data4       # 內積\n",
    "np.outer(data3,data4)  # 外積"
   ]
  },
  {
   "cell_type": "markdown",
   "id": "7a926dbb-6473-4271-abc9-3da42b805177",
   "metadata": {},
   "source": [
    "# 統計"
   ]
  },
  {
   "cell_type": "code",
   "execution_count": 8,
   "id": "b0a8cc4d-7d86-4686-9f4f-4c61c05e358f",
   "metadata": {
    "tags": []
   },
   "outputs": [
    {
     "data": {
      "text/plain": [
       "1.7950549357115015"
      ]
     },
     "execution_count": 8,
     "metadata": {},
     "output_type": "execute_result"
    }
   ],
   "source": [
    "data4.sum()\n",
    "data4.sum(axis=0)  # 加總column\n",
    "data4.sum(axis=1)  # 加總row\n",
    "data4.min()\n",
    "data4.cumsum()  # 逐值累加\n",
    "data4.mean()\n",
    "data4.std()    # 標準差"
   ]
  },
  {
   "cell_type": "markdown",
   "id": "cd9ada29-0cd7-49cf-85c3-02bd799891ea",
   "metadata": {},
   "source": [
    "# 形狀"
   ]
  },
  {
   "cell_type": "code",
   "execution_count": 9,
   "id": "3321e6e6-c40d-4cb7-93c4-1acf5e960c8a",
   "metadata": {
    "tags": []
   },
   "outputs": [
    {
     "data": {
      "text/plain": [
       "(2, 3)"
      ]
     },
     "execution_count": 9,
     "metadata": {},
     "output_type": "execute_result"
    }
   ],
   "source": [
    "data4.shape"
   ]
  },
  {
   "cell_type": "code",
   "execution_count": 10,
   "id": "fd0efd77-de55-47a8-a728-c0184cd2a822",
   "metadata": {
    "tags": []
   },
   "outputs": [
    {
     "data": {
      "text/plain": [
       "(3, 2)"
      ]
     },
     "execution_count": 10,
     "metadata": {},
     "output_type": "execute_result"
    }
   ],
   "source": [
    "# 轉置\n",
    "data4.T.shape"
   ]
  },
  {
   "cell_type": "code",
   "execution_count": 11,
   "id": "d248dc00-571c-47f0-b232-fc0c7b795faa",
   "metadata": {
    "tags": []
   },
   "outputs": [
    {
     "data": {
      "text/plain": [
       "array([4, 7, 8, 3, 5, 7])"
      ]
     },
     "execution_count": 11,
     "metadata": {},
     "output_type": "execute_result"
    }
   ],
   "source": [
    "# 扁平化\n",
    "data4.ravel()"
   ]
  },
  {
   "cell_type": "code",
   "execution_count": 12,
   "id": "6d7cd79d-daf0-455a-9d25-74e3ac486d49",
   "metadata": {
    "tags": []
   },
   "outputs": [
    {
     "name": "stdout",
     "output_type": "stream",
     "text": [
      "[[[1. 1. 1.]\n",
      "  [1. 1. 1.]\n",
      "  [1. 1. 1.]]\n",
      "\n",
      " [[1. 1. 1.]\n",
      "  [1. 1. 1.]\n",
      "  [1. 1. 1.]]]\n"
     ]
    }
   ],
   "source": [
    "# 重塑資料形狀\n",
    "data4.reshape(3,2)\n",
    "data4.reshape(2,3)\n",
    "\n",
    "new_data = np.ones(18).reshape(2,3,3)\n",
    "print(new_data)"
   ]
  },
  {
   "cell_type": "markdown",
   "id": "d636ef86-bc6f-4995-a996-08e33acc5f8a",
   "metadata": {},
   "source": [
    "# 索引"
   ]
  },
  {
   "cell_type": "code",
   "execution_count": 13,
   "id": "b211502c-38a1-4be3-a2ea-c3cda7fe181a",
   "metadata": {
    "tags": []
   },
   "outputs": [
    {
     "data": {
      "text/plain": [
       "7"
      ]
     },
     "execution_count": 13,
     "metadata": {},
     "output_type": "execute_result"
    }
   ],
   "source": [
    "data1[1]\n",
    "data4[1,2]"
   ]
  },
  {
   "cell_type": "markdown",
   "id": "0dbb7124-b914-4dd6-9f25-f6f7d76bc245",
   "metadata": {},
   "source": [
    "# 切片"
   ]
  },
  {
   "cell_type": "code",
   "execution_count": 14,
   "id": "80bf3fe9-bb61-42de-8554-798b9d207d7f",
   "metadata": {
    "tags": []
   },
   "outputs": [
    {
     "data": {
      "text/plain": [
       "array([[4],\n",
       "       [3]])"
      ]
     },
     "execution_count": 14,
     "metadata": {},
     "output_type": "execute_result"
    }
   ],
   "source": [
    "# 多維陣列[開始：結束] (不包含結束)\n",
    "data1[0:1]\n",
    "data4[0:2, 0:1]"
   ]
  },
  {
   "cell_type": "code",
   "execution_count": 15,
   "id": "d6d77e66-0fb1-436a-8011-7b25e98322ea",
   "metadata": {
    "tags": []
   },
   "outputs": [
    {
     "data": {
      "text/plain": [
       "array([[4],\n",
       "       [3]])"
      ]
     },
     "execution_count": 15,
     "metadata": {},
     "output_type": "execute_result"
    }
   ],
   "source": [
    "data4[0,...]\n",
    "data4[...,0:1]"
   ]
  },
  {
   "cell_type": "markdown",
   "id": "58c7145b-fb3c-46c3-8210-da3bbb9bc6fe",
   "metadata": {},
   "source": [
    "# 合併"
   ]
  },
  {
   "cell_type": "code",
   "execution_count": 16,
   "id": "fae70975-e2b2-4b6a-9486-510b94904ad8",
   "metadata": {
    "tags": []
   },
   "outputs": [
    {
     "data": {
      "text/plain": [
       "array([[0., 0.],\n",
       "       [0., 0.],\n",
       "       [1., 1.],\n",
       "       [1., 1.]])"
      ]
     },
     "execution_count": 16,
     "metadata": {},
     "output_type": "execute_result"
    }
   ],
   "source": [
    "arr1 = np.zeros(4).reshape(2,2)\n",
    "arr2 = np.ones(4).reshape(2,2)\n",
    "\n",
    "# 合併第一個維度\n",
    "np.vstack((arr1,arr2))"
   ]
  },
  {
   "cell_type": "code",
   "execution_count": 17,
   "id": "58f24fe0-a326-4c5e-b330-06452379d177",
   "metadata": {
    "tags": []
   },
   "outputs": [
    {
     "data": {
      "text/plain": [
       "array([[0., 0., 1., 1.],\n",
       "       [0., 0., 1., 1.]])"
      ]
     },
     "execution_count": 17,
     "metadata": {},
     "output_type": "execute_result"
    }
   ],
   "source": [
    "# 合併第二個維度\n",
    "np.hstack((arr1,arr2))"
   ]
  },
  {
   "cell_type": "markdown",
   "id": "e41f3816-6df0-45c1-85a8-9127bbdc7de2",
   "metadata": {},
   "source": [
    "# 切割"
   ]
  },
  {
   "cell_type": "code",
   "execution_count": 18,
   "id": "a1db3801-8a4a-4c7b-9b7a-701da0ce90ec",
   "metadata": {
    "tags": []
   },
   "outputs": [
    {
     "data": {
      "text/plain": [
       "[array([[1, 2, 3, 4]]), array([[5, 6, 7, 8]])]"
      ]
     },
     "execution_count": 18,
     "metadata": {},
     "output_type": "execute_result"
    }
   ],
   "source": [
    "arr3=np.array([\n",
    "    [1,2,3,4],\n",
    "    [5,6,7,8]\n",
    "])\n",
    "\n",
    "np.vsplit(arr3, 2)"
   ]
  },
  {
   "cell_type": "code",
   "execution_count": 19,
   "id": "8c3f502a-300b-4371-86a2-4dc67c7b57ff",
   "metadata": {},
   "outputs": [
    {
     "data": {
      "text/plain": [
       "[array([[1, 2],\n",
       "        [5, 6]]),\n",
       " array([[3, 4],\n",
       "        [7, 8]])]"
      ]
     },
     "execution_count": 19,
     "metadata": {},
     "output_type": "execute_result"
    }
   ],
   "source": [
    "np.hsplit(arr3, 2)"
   ]
  },
  {
   "cell_type": "markdown",
   "id": "50ca6642-b317-430b-9db0-93177723c7ed",
   "metadata": {},
   "source": [
    "# 亂數"
   ]
  },
  {
   "cell_type": "code",
   "execution_count": 20,
   "id": "143dfa69-4e9a-49b0-bad8-9cc50f17e12b",
   "metadata": {},
   "outputs": [
    {
     "data": {
      "text/plain": [
       "array([0.37533631, 0.29233192, 0.33570952, 0.0977689 , 0.88881474,\n",
       "       0.46621645, 0.19321183, 0.76027766, 0.61960783, 0.73008314])"
      ]
     },
     "execution_count": 20,
     "metadata": {},
     "output_type": "execute_result"
    }
   ],
   "source": [
    "j = np.random.rand(10)\n",
    "j"
   ]
  },
  {
   "cell_type": "code",
   "execution_count": 28,
   "id": "903854aa-a2dd-434c-8bb1-241f877c5a2b",
   "metadata": {
    "tags": []
   },
   "outputs": [
    {
     "name": "stdout",
     "output_type": "stream",
     "text": [
      "[[0.65621582 0.85930741 0.47603063 0.28234471 0.37231419]\n",
      " [0.48275733 0.64801167 0.06148787 0.18000616 0.55398277]]\n",
      "(2, 5)\n"
     ]
    }
   ],
   "source": [
    "i = np.random.rand(10).reshape(2,5)\n",
    "print(i)\n",
    "print(i.shape)"
   ]
  },
  {
   "cell_type": "code",
   "execution_count": null,
   "id": "7bc52241-9113-4ebc-83c3-437128030cd5",
   "metadata": {
    "tags": []
   },
   "outputs": [
    {
     "data": {
      "text/plain": [
       "array([ 5, 12, 11,  7,  5, 14, 10, 19,  2, 17, 18, 17,  7, 13,  6, 17,  4,\n",
       "       12,  6, 14, 10,  3,  4,  6, 11,  7,  2, 19,  4, 17, 15,  8, 15,  1,\n",
       "       15,  7,  3,  7,  1,  3, 19, 17,  6, 15,  1, 14,  9,  4, 14, 17,  4,\n",
       "        8, 13,  7,  8, 18,  8, 14,  4, 12,  7, 13,  1, 15,  1, 17,  8, 12,\n",
       "       12,  6, 13, 17,  5, 15, 15, 10,  9,  6, 10,  7, 11, 13, 16,  1,  8,\n",
       "        7, 19, 10,  3, 15, 18,  9,  1,  3, 15, 15, 11, 13, 18,  4])"
      ]
     },
     "execution_count": 32,
     "metadata": {},
     "output_type": "execute_result"
    }
   ],
   "source": [
    "q = np.random.randint(1,20,100)\n",
    "q\n"
   ]
  }
 ],
 "metadata": {
  "kernelspec": {
   "display_name": "Python 3 (ipykernel)",
   "language": "python",
   "name": "python3"
  },
  "language_info": {
   "codemirror_mode": {
    "name": "ipython",
    "version": 3
   },
   "file_extension": ".py",
   "mimetype": "text/x-python",
   "name": "python",
   "nbconvert_exporter": "python",
   "pygments_lexer": "ipython3",
   "version": "3.12.7"
  }
 },
 "nbformat": 4,
 "nbformat_minor": 5
}
