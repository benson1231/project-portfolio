{
 "cells": [
  {
   "cell_type": "code",
   "execution_count": null,
   "id": "eed1b4fa-a27b-47b1-9d40-e1b86e812662",
   "metadata": {},
   "outputs": [],
   "source": [
    "import logging\n",
    "\n",
    "logger = logging.getLogger(__name__)\n",
    "\n",
    "import sys\n",
    "stream_handler = logging.StreamHandler(sys.stdout)\n",
    "\n",
    "logger.addHandler(stream_handler)"
   ]
  },
  {
   "cell_type": "code",
   "execution_count": null,
   "id": "a643a261-c583-4bf4-8a0b-42bfed69d326",
   "metadata": {},
   "outputs": [],
   "source": [
    "print(logging.DEBUG)\n",
    "print(logging.INFO)\n",
    "print(logging.WARNING)\n",
    "print(logging.ERROR)\n",
    "print(logging.CRITICAL)\n",
    "print(logging.NOTSET)"
   ]
  },
  {
   "cell_type": "code",
   "execution_count": null,
   "id": "a8564b2c-cdaa-41a4-ae49-103e141e5eea",
   "metadata": {},
   "outputs": [],
   "source": [
    "import logging\n",
    "import sys\n",
    "\n",
    "logger = logging.getLogger(__name__)\n",
    "stream_handler = logging.StreamHandler(sys.stdout)\n",
    "logger.addHandler(stream_handler)\n",
    "        \n",
    "def division():\n",
    "  logger.debug(\"Starting Division! \")\n",
    "  try:\n",
    "    dividend = float(input(\"Enter the dividend: \"))\n",
    "    logger.info(dividend)\n",
    "    divisor = float(input(\"Enter the divisor: \"))\n",
    "    logger.info(divisor)\n",
    "  except ValueError:\n",
    "    logger.log(logging.CRITICAL, \"No dividend or divisor value entered!\")\n",
    "    return\n",
    "  if divisor == 0:\n",
    "    logger.error(\"Attempting to divide by 0!\")\n",
    "    return\n",
    "  else:\n",
    "    return dividend/divisor\n",
    "result = division()\n",
    "if result == None:\n",
    "  logger.warning(\"The result value is None!\")"
   ]
  },
  {
   "cell_type": "code",
   "execution_count": 1,
   "id": "4eb34224-487d-493d-82da-9fcaa6984d54",
   "metadata": {
    "tags": []
   },
   "outputs": [
    {
     "name": "stdout",
     "output_type": "stream",
     "text": [
      "[2024-11-28 22:00:44,465] {DEBUG} - Starting Division!\n"
     ]
    },
    {
     "name": "stdout",
     "output_type": "stream",
     "text": [
      "Enter the dividend:  6\n"
     ]
    },
    {
     "name": "stdout",
     "output_type": "stream",
     "text": [
      "[2024-11-28 22:00:47,842] {INFO} - 6.0\n"
     ]
    },
    {
     "name": "stdout",
     "output_type": "stream",
     "text": [
      "Enter the divisor:  0\n"
     ]
    },
    {
     "name": "stdout",
     "output_type": "stream",
     "text": [
      "[2024-11-28 22:00:48,867] {INFO} - 0.0\n",
      "[2024-11-28 22:00:48,868] {ERROR} - Attempting to divide by 0!\n",
      "[2024-11-28 22:00:48,870] {WARNING} - The result value is None!\n"
     ]
    }
   ],
   "source": [
    "import logging  # 用於記錄日誌\n",
    "import sys      # 用於訪問標準輸入輸出\n",
    "\n",
    "# 設置日誌記錄器\n",
    "logger = logging.getLogger(__name__)  # 創建一個以模組名稱命名的記錄器\n",
    "logger.setLevel(logging.DEBUG)        # 設置記錄器的日誌級別為 DEBUG，記錄所有級別的日誌\n",
    "\n",
    "# 創建日誌處理器\n",
    "file_handler = logging.FileHandler(\"formatted.log\")  # 將日誌輸出到文件 \"formatted.log\"\n",
    "stream_handler = logging.StreamHandler(sys.stdout)  # 將日誌輸出到標準輸出（如終端）\n",
    "\n",
    "# 將處理器添加到記錄器\n",
    "logger.addHandler(file_handler)  # 添加文件處理器\n",
    "logger.addHandler(stream_handler)  # 添加標準輸出處理器\n",
    "\n",
    "# 設置日誌格式\n",
    "formatter1 = logging.Formatter(\"[%(asctime)s] {%(levelname)s} %(name)s: #%(lineno)d - %(message)s\")\n",
    "# 格式化文件日誌，包含時間戳、日誌級別、模組名稱、行號和日誌消息\n",
    "\n",
    "formatter2 = logging.Formatter(\"[%(asctime)s] {%(levelname)s} - %(message)s\")\n",
    "# 格式化終端日誌，包含時間戳、日誌級別和日誌消息\n",
    "\n",
    "# 為各處理器分別設置格式\n",
    "file_handler.setFormatter(formatter1)\n",
    "stream_handler.setFormatter(formatter2)\n",
    "\n",
    "# 定義一個簡單的除法函數\n",
    "def division():\n",
    "    logger.debug(\"Starting Division!\")  # 記錄 DEBUG 級別的消息，表明開始執行函數\n",
    "    try:\n",
    "        # 輸入被除數，並記錄 INFO 級別的消息\n",
    "        dividend = float(input(\"Enter the dividend: \"))\n",
    "        logger.info(dividend)\n",
    "        \n",
    "        # 輸入除數，並記錄 INFO 級別的消息\n",
    "        divisor = float(input(\"Enter the divisor: \"))\n",
    "        logger.info(divisor)\n",
    "    except SyntaxError:\n",
    "        # 捕獲輸入錯誤，記錄 CRITICAL 級別的消息\n",
    "        logger.log(logging.CRITICAL, \"No dividend or divisor value entered!\")\n",
    "        return\n",
    "\n",
    "    if divisor == 0:\n",
    "        # 檢查是否嘗試除以零，記錄 ERROR 級別的消息\n",
    "        logger.error(\"Attempting to divide by 0!\")\n",
    "        return\n",
    "    else:\n",
    "        # 返回計算結果\n",
    "        return dividend / divisor\n",
    "\n",
    "# 執行函數並接收返回值\n",
    "result = division()\n",
    "\n",
    "# 如果結果為 None，記錄 WARNING 級別的消息\n",
    "if result == None:\n",
    "    logger.warning(\"The result value is None!\")\n"
   ]
  },
  {
   "cell_type": "code",
   "execution_count": null,
   "id": "3f71c36a-df50-482c-8a8a-06417a33a7ce",
   "metadata": {},
   "outputs": [],
   "source": []
  },
  {
   "cell_type": "code",
   "execution_count": null,
   "id": "69f92d0e-d957-4eb6-8c53-e3e4e8f6ba3a",
   "metadata": {},
   "outputs": [],
   "source": []
  },
  {
   "cell_type": "code",
   "execution_count": null,
   "id": "8ab72515-cddd-45b1-8069-0b7dbb97035b",
   "metadata": {},
   "outputs": [],
   "source": []
  },
  {
   "cell_type": "code",
   "execution_count": null,
   "id": "03f65023-ca23-4063-bb9b-71cbca2c877f",
   "metadata": {},
   "outputs": [],
   "source": []
  },
  {
   "cell_type": "code",
   "execution_count": null,
   "id": "cc282153-8aab-44ed-bea7-4dbe5459284f",
   "metadata": {},
   "outputs": [],
   "source": []
  }
 ],
 "metadata": {
  "kernelspec": {
   "display_name": "Python 3 (ipykernel)",
   "language": "python",
   "name": "python3"
  },
  "language_info": {
   "codemirror_mode": {
    "name": "ipython",
    "version": 3
   },
   "file_extension": ".py",
   "mimetype": "text/x-python",
   "name": "python",
   "nbconvert_exporter": "python",
   "pygments_lexer": "ipython3",
   "version": "3.11.5"
  }
 },
 "nbformat": 4,
 "nbformat_minor": 5
}
